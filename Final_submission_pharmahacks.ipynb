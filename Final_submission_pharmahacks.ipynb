{
  "cells": [
    {
      "cell_type": "markdown",
      "metadata": {
        "id": "VsfoI-9Flk7J"
      },
      "source": [
        "# **MolecularForecast challenge**\n",
        "*A guide for starting the challenge*"
      ]
    },
    {
      "cell_type": "markdown",
      "metadata": {
        "id": "5IVuONpQhrER"
      },
      "source": [
        "#Imports"
      ]
    },
    {
      "cell_type": "code",
      "execution_count": 1,
      "metadata": {
        "colab": {
          "base_uri": "https://localhost:8080/"
        },
        "id": "_XH0GBJtF9eU",
        "outputId": "1f1cd89a-4b1d-44db-b887-2da345827e7e"
      },
      "outputs": [
        {
          "name": "stdout",
          "output_type": "stream",
          "text": [
            "Requirement already satisfied: rdkit in /opt/anaconda3/lib/python3.12/site-packages (2024.9.6)\n",
            "Requirement already satisfied: xgboost in /opt/anaconda3/lib/python3.12/site-packages (3.0.0)\n",
            "Requirement already satisfied: scikit-learn in /opt/anaconda3/lib/python3.12/site-packages (1.4.2)\n",
            "Requirement already satisfied: pandas in /opt/anaconda3/lib/python3.12/site-packages (2.2.2)\n",
            "Requirement already satisfied: numpy in /opt/anaconda3/lib/python3.12/site-packages (1.26.4)\n",
            "Requirement already satisfied: matplotlib in /opt/anaconda3/lib/python3.12/site-packages (3.8.4)\n",
            "Requirement already satisfied: transformers in /opt/anaconda3/lib/python3.12/site-packages (4.49.0)\n",
            "Requirement already satisfied: torch in /opt/anaconda3/lib/python3.12/site-packages (2.4.1)\n",
            "Requirement already satisfied: Pillow in /opt/anaconda3/lib/python3.12/site-packages (from rdkit) (10.3.0)\n",
            "Requirement already satisfied: scipy in /opt/anaconda3/lib/python3.12/site-packages (from xgboost) (1.13.1)\n",
            "Requirement already satisfied: joblib>=1.2.0 in /opt/anaconda3/lib/python3.12/site-packages (from scikit-learn) (1.4.2)\n",
            "Requirement already satisfied: threadpoolctl>=2.0.0 in /opt/anaconda3/lib/python3.12/site-packages (from scikit-learn) (2.2.0)\n",
            "Requirement already satisfied: python-dateutil>=2.8.2 in /opt/anaconda3/lib/python3.12/site-packages (from pandas) (2.9.0.post0)\n",
            "Requirement already satisfied: pytz>=2020.1 in /opt/anaconda3/lib/python3.12/site-packages (from pandas) (2024.1)\n",
            "Requirement already satisfied: tzdata>=2022.7 in /opt/anaconda3/lib/python3.12/site-packages (from pandas) (2023.3)\n",
            "Requirement already satisfied: contourpy>=1.0.1 in /opt/anaconda3/lib/python3.12/site-packages (from matplotlib) (1.2.0)\n",
            "Requirement already satisfied: cycler>=0.10 in /opt/anaconda3/lib/python3.12/site-packages (from matplotlib) (0.11.0)\n",
            "Requirement already satisfied: fonttools>=4.22.0 in /opt/anaconda3/lib/python3.12/site-packages (from matplotlib) (4.51.0)\n",
            "Requirement already satisfied: kiwisolver>=1.3.1 in /opt/anaconda3/lib/python3.12/site-packages (from matplotlib) (1.4.4)\n",
            "Requirement already satisfied: packaging>=20.0 in /opt/anaconda3/lib/python3.12/site-packages (from matplotlib) (23.2)\n",
            "Requirement already satisfied: pyparsing>=2.3.1 in /opt/anaconda3/lib/python3.12/site-packages (from matplotlib) (3.0.9)\n",
            "Requirement already satisfied: filelock in /opt/anaconda3/lib/python3.12/site-packages (from transformers) (3.13.1)\n",
            "Requirement already satisfied: huggingface-hub<1.0,>=0.26.0 in /opt/anaconda3/lib/python3.12/site-packages (from transformers) (0.29.3)\n",
            "Requirement already satisfied: pyyaml>=5.1 in /opt/anaconda3/lib/python3.12/site-packages (from transformers) (6.0.1)\n",
            "Requirement already satisfied: regex!=2019.12.17 in /opt/anaconda3/lib/python3.12/site-packages (from transformers) (2023.10.3)\n",
            "Requirement already satisfied: requests in /opt/anaconda3/lib/python3.12/site-packages (from transformers) (2.32.2)\n",
            "Requirement already satisfied: tokenizers<0.22,>=0.21 in /opt/anaconda3/lib/python3.12/site-packages (from transformers) (0.21.1)\n",
            "Requirement already satisfied: safetensors>=0.4.1 in /opt/anaconda3/lib/python3.12/site-packages (from transformers) (0.4.5)\n",
            "Requirement already satisfied: tqdm>=4.27 in /opt/anaconda3/lib/python3.12/site-packages (from transformers) (4.45.0)\n",
            "Requirement already satisfied: typing-extensions>=4.8.0 in /opt/anaconda3/lib/python3.12/site-packages (from torch) (4.11.0)\n",
            "Requirement already satisfied: sympy in /opt/anaconda3/lib/python3.12/site-packages (from torch) (1.12)\n",
            "Requirement already satisfied: networkx in /opt/anaconda3/lib/python3.12/site-packages (from torch) (3.2.1)\n",
            "Requirement already satisfied: jinja2 in /opt/anaconda3/lib/python3.12/site-packages (from torch) (3.1.4)\n",
            "Requirement already satisfied: fsspec in /opt/anaconda3/lib/python3.12/site-packages (from torch) (2024.3.1)\n",
            "Requirement already satisfied: setuptools in /opt/anaconda3/lib/python3.12/site-packages (from torch) (69.5.1)\n",
            "Requirement already satisfied: six>=1.5 in /opt/anaconda3/lib/python3.12/site-packages (from python-dateutil>=2.8.2->pandas) (1.16.0)\n",
            "Requirement already satisfied: MarkupSafe>=2.0 in /opt/anaconda3/lib/python3.12/site-packages (from jinja2->torch) (2.1.3)\n",
            "Requirement already satisfied: charset-normalizer<4,>=2 in /opt/anaconda3/lib/python3.12/site-packages (from requests->transformers) (2.0.4)\n",
            "Requirement already satisfied: idna<4,>=2.5 in /opt/anaconda3/lib/python3.12/site-packages (from requests->transformers) (3.7)\n",
            "Requirement already satisfied: urllib3<3,>=1.21.1 in /opt/anaconda3/lib/python3.12/site-packages (from requests->transformers) (2.2.2)\n",
            "Requirement already satisfied: certifi>=2017.4.17 in /opt/anaconda3/lib/python3.12/site-packages (from requests->transformers) (2024.8.30)\n",
            "Requirement already satisfied: mpmath>=0.19 in /opt/anaconda3/lib/python3.12/site-packages (from sympy->torch) (1.3.0)\n"
          ]
        }
      ],
      "source": [
        "# Install necessary libraries\n",
        "!pip install rdkit xgboost scikit-learn pandas numpy matplotlib transformers torch"
      ]
    },
    {
      "cell_type": "code",
      "execution_count": 2,
      "metadata": {
        "id": "E9WkhvTif7q4"
      },
      "outputs": [],
      "source": [
        "# Import libraries\n",
        "import os\n",
        "import pandas as pd\n",
        "import numpy as np\n",
        "import matplotlib.pyplot as plt\n",
        "import pickle\n",
        "import torch\n",
        "\n",
        "from itertools import product\n",
        "\n",
        "from rdkit import Chem\n",
        "from rdkit.Chem import AllChem\n",
        "from itertools import islice\n",
        "from transformers import AutoTokenizer, AutoModel\n",
        "from xgboost import XGBRegressor\n",
        "from sklearn.model_selection import train_test_split, KFold\n",
        "from sklearn.metrics import mean_squared_error, mean_absolute_error\n",
        "from sklearn.preprocessing import StandardScaler, LabelEncoder\n",
        "from sklearn.model_selection import train_test_split\n",
        "\n",
        "from sklearn.decomposition import PCA"
      ]
    },
    {
      "cell_type": "markdown",
      "metadata": {
        "id": "on2QmTs3-g1S"
      },
      "source": [
        "#Load Datasets"
      ]
    },
    {
      "cell_type": "markdown",
      "metadata": {
        "id": "dkP72ySU-slG"
      },
      "source": [
        "##Table 1"
      ]
    },
    {
      "cell_type": "code",
      "execution_count": 3,
      "metadata": {
        "colab": {
          "base_uri": "https://localhost:8080/",
          "height": 206
        },
        "id": "j4UekVrkF9eV",
        "outputId": "1c3ea1e4-ee81-4caa-ea7b-3abca4663dd0"
      },
      "outputs": [
        {
          "data": {
            "text/html": [
              "<div>\n",
              "<style scoped>\n",
              "    .dataframe tbody tr th:only-of-type {\n",
              "        vertical-align: middle;\n",
              "    }\n",
              "\n",
              "    .dataframe tbody tr th {\n",
              "        vertical-align: top;\n",
              "    }\n",
              "\n",
              "    .dataframe thead th {\n",
              "        text-align: right;\n",
              "    }\n",
              "</style>\n",
              "<table border=\"1\" class=\"dataframe\">\n",
              "  <thead>\n",
              "    <tr style=\"text-align: right;\">\n",
              "      <th></th>\n",
              "      <th>Accession Number</th>\n",
              "      <th>Entrez Gene Symbol</th>\n",
              "      <th>Kinase</th>\n",
              "      <th>Mutant</th>\n",
              "      <th>Kinase Group</th>\n",
              "    </tr>\n",
              "  </thead>\n",
              "  <tbody>\n",
              "    <tr>\n",
              "      <th>0</th>\n",
              "      <td>NP_055726.3</td>\n",
              "      <td>AAK1</td>\n",
              "      <td>AAK1</td>\n",
              "      <td>NO</td>\n",
              "      <td>Other</td>\n",
              "    </tr>\n",
              "    <tr>\n",
              "      <th>1</th>\n",
              "      <td>NP_005148.2</td>\n",
              "      <td>ABL1</td>\n",
              "      <td>ABL1(E255K)-phosphorylated</td>\n",
              "      <td>YES</td>\n",
              "      <td>TK</td>\n",
              "    </tr>\n",
              "    <tr>\n",
              "      <th>2</th>\n",
              "      <td>NP_005148.2</td>\n",
              "      <td>ABL1</td>\n",
              "      <td>ABL1(F317I)-nonphosphorylated</td>\n",
              "      <td>YES</td>\n",
              "      <td>TK</td>\n",
              "    </tr>\n",
              "    <tr>\n",
              "      <th>3</th>\n",
              "      <td>NP_005148.2</td>\n",
              "      <td>ABL1</td>\n",
              "      <td>ABL1(F317I)-phosphorylated</td>\n",
              "      <td>YES</td>\n",
              "      <td>TK</td>\n",
              "    </tr>\n",
              "    <tr>\n",
              "      <th>4</th>\n",
              "      <td>NP_005148.2</td>\n",
              "      <td>ABL1</td>\n",
              "      <td>ABL1(F317L)-nonphosphorylated</td>\n",
              "      <td>YES</td>\n",
              "      <td>TK</td>\n",
              "    </tr>\n",
              "  </tbody>\n",
              "</table>\n",
              "</div>"
            ],
            "text/plain": [
              "  Accession Number Entrez Gene Symbol                         Kinase Mutant  \\\n",
              "0      NP_055726.3               AAK1                           AAK1     NO   \n",
              "1      NP_005148.2               ABL1     ABL1(E255K)-phosphorylated    YES   \n",
              "2      NP_005148.2               ABL1  ABL1(F317I)-nonphosphorylated    YES   \n",
              "3      NP_005148.2               ABL1     ABL1(F317I)-phosphorylated    YES   \n",
              "4      NP_005148.2               ABL1  ABL1(F317L)-nonphosphorylated    YES   \n",
              "\n",
              "  Kinase Group  \n",
              "0        Other  \n",
              "1           TK  \n",
              "2           TK  \n",
              "3           TK  \n",
              "4           TK  "
            ]
          },
          "execution_count": 3,
          "metadata": {},
          "output_type": "execute_result"
        }
      ],
      "source": [
        "table1 = pd.read_excel('Table-1.xlsx')\n",
        "table1.head()"
      ]
    },
    {
      "cell_type": "markdown",
      "metadata": {
        "id": "BYOer2FeAZ9d"
      },
      "source": [
        "##Table 2"
      ]
    },
    {
      "cell_type": "code",
      "execution_count": 4,
      "metadata": {
        "colab": {
          "base_uri": "https://localhost:8080/",
          "height": 241
        },
        "id": "PYAY_mAr3Zu-",
        "outputId": "903b0597-5aaa-478a-8855-e6ec2cb65790"
      },
      "outputs": [
        {
          "data": {
            "text/html": [
              "<div>\n",
              "<style scoped>\n",
              "    .dataframe tbody tr th:only-of-type {\n",
              "        vertical-align: middle;\n",
              "    }\n",
              "\n",
              "    .dataframe tbody tr th {\n",
              "        vertical-align: top;\n",
              "    }\n",
              "\n",
              "    .dataframe thead th {\n",
              "        text-align: right;\n",
              "    }\n",
              "</style>\n",
              "<table border=\"1\" class=\"dataframe\">\n",
              "  <thead>\n",
              "    <tr style=\"text-align: right;\">\n",
              "      <th></th>\n",
              "      <th>Compound</th>\n",
              "      <th>SMILES</th>\n",
              "      <th>Binding Mode (based on ABL1-phos. vs. -nonphos affinity)</th>\n",
              "      <th>S(300nM)</th>\n",
              "      <th>S(3000nM)</th>\n",
              "    </tr>\n",
              "  </thead>\n",
              "  <tbody>\n",
              "    <tr>\n",
              "      <th>0</th>\n",
              "      <td>A-674563</td>\n",
              "      <td>CC1=C2C=C(C=CC2=NN1)C3=CC(=CN=C3)OCC(CC4=CC=CC...</td>\n",
              "      <td>undetermined</td>\n",
              "      <td>0.1166</td>\n",
              "      <td>0.2772</td>\n",
              "    </tr>\n",
              "    <tr>\n",
              "      <th>1</th>\n",
              "      <td>AB-1010</td>\n",
              "      <td>CC1=C(C=C(C=C1)NC(=O)C2=CC=C(C=C2)CN3CCN(CC3)C...</td>\n",
              "      <td>Type II</td>\n",
              "      <td>0.0337</td>\n",
              "      <td>0.0622</td>\n",
              "    </tr>\n",
              "    <tr>\n",
              "      <th>2</th>\n",
              "      <td>ABT-869</td>\n",
              "      <td>CC1=CC(=C(C=C1)F)NC(=O)NC2=CC=C(C=C2)C3=C4C(=C...</td>\n",
              "      <td>undetermined</td>\n",
              "      <td>0.0648</td>\n",
              "      <td>0.1839</td>\n",
              "    </tr>\n",
              "    <tr>\n",
              "      <th>3</th>\n",
              "      <td>AC220</td>\n",
              "      <td>CC(C)(C)C1=CC(=NO1)NC(=O)NC2=CC=C(C=C2)C3=CN4C...</td>\n",
              "      <td>Type II</td>\n",
              "      <td>0.0285</td>\n",
              "      <td>0.0751</td>\n",
              "    </tr>\n",
              "    <tr>\n",
              "      <th>4</th>\n",
              "      <td>AG-013736</td>\n",
              "      <td>CNC(=O)C1=CC=CC=C1SC2=CC3=C(C=C2)C(=NN3)C=CC4=...</td>\n",
              "      <td>Type I</td>\n",
              "      <td>0.0570</td>\n",
              "      <td>0.1969</td>\n",
              "    </tr>\n",
              "  </tbody>\n",
              "</table>\n",
              "</div>"
            ],
            "text/plain": [
              "    Compound                                             SMILES  \\\n",
              "0   A-674563  CC1=C2C=C(C=CC2=NN1)C3=CC(=CN=C3)OCC(CC4=CC=CC...   \n",
              "1    AB-1010  CC1=C(C=C(C=C1)NC(=O)C2=CC=C(C=C2)CN3CCN(CC3)C...   \n",
              "2    ABT-869  CC1=CC(=C(C=C1)F)NC(=O)NC2=CC=C(C=C2)C3=C4C(=C...   \n",
              "3      AC220  CC(C)(C)C1=CC(=NO1)NC(=O)NC2=CC=C(C=C2)C3=CN4C...   \n",
              "4  AG-013736  CNC(=O)C1=CC=CC=C1SC2=CC3=C(C=C2)C(=NN3)C=CC4=...   \n",
              "\n",
              "  Binding Mode (based on ABL1-phos. vs. -nonphos affinity)  S(300nM)  \\\n",
              "0                                       undetermined          0.1166   \n",
              "1                                            Type II          0.0337   \n",
              "2                                       undetermined          0.0648   \n",
              "3                                            Type II          0.0285   \n",
              "4                                             Type I          0.0570   \n",
              "\n",
              "   S(3000nM)  \n",
              "0     0.2772  \n",
              "1     0.0622  \n",
              "2     0.1839  \n",
              "3     0.0751  \n",
              "4     0.1969  "
            ]
          },
          "execution_count": 4,
          "metadata": {},
          "output_type": "execute_result"
        }
      ],
      "source": [
        "table2 = pd.read_csv('Table-2_train.csv')\n",
        "table2.head()"
      ]
    },
    {
      "cell_type": "markdown",
      "metadata": {
        "id": "DNqamjlxAXDO"
      },
      "source": [
        "##Table 3"
      ]
    },
    {
      "cell_type": "code",
      "execution_count": 5,
      "metadata": {
        "colab": {
          "base_uri": "https://localhost:8080/",
          "height": 359
        },
        "id": "JzY0Q5VkF9el",
        "outputId": "c4597e15-0ae0-4bdb-d9b9-60afd5f6c3e7"
      },
      "outputs": [
        {
          "data": {
            "text/html": [
              "<div>\n",
              "<style scoped>\n",
              "    .dataframe tbody tr th:only-of-type {\n",
              "        vertical-align: middle;\n",
              "    }\n",
              "\n",
              "    .dataframe tbody tr th {\n",
              "        vertical-align: top;\n",
              "    }\n",
              "\n",
              "    .dataframe thead th {\n",
              "        text-align: right;\n",
              "    }\n",
              "</style>\n",
              "<table border=\"1\" class=\"dataframe\">\n",
              "  <thead>\n",
              "    <tr style=\"text-align: right;\">\n",
              "      <th></th>\n",
              "      <th>Accession Number</th>\n",
              "      <th>Entrez Gene Symbol</th>\n",
              "      <th>Kinase</th>\n",
              "      <th>A-674563</th>\n",
              "      <th>AB-1010</th>\n",
              "      <th>ABT-869</th>\n",
              "      <th>AC220</th>\n",
              "      <th>AG-013736</th>\n",
              "      <th>AST-487</th>\n",
              "      <th>AT-7519</th>\n",
              "      <th>...</th>\n",
              "      <th>PP-242</th>\n",
              "      <th>PTK-787</th>\n",
              "      <th>R406</th>\n",
              "      <th>R547</th>\n",
              "      <th>SB-203580</th>\n",
              "      <th>SGX-523</th>\n",
              "      <th>Staurosporine</th>\n",
              "      <th>TAE-684</th>\n",
              "      <th>TG-101348</th>\n",
              "      <th>Vandetanib</th>\n",
              "    </tr>\n",
              "  </thead>\n",
              "  <tbody>\n",
              "    <tr>\n",
              "      <th>0</th>\n",
              "      <td>NP_055726.3</td>\n",
              "      <td>AAK1</td>\n",
              "      <td>AAK1</td>\n",
              "      <td>43.0</td>\n",
              "      <td>10001.0</td>\n",
              "      <td>10001.0</td>\n",
              "      <td>10001.0</td>\n",
              "      <td>1200.0</td>\n",
              "      <td>10001.00</td>\n",
              "      <td>10001.0</td>\n",
              "      <td>...</td>\n",
              "      <td>1600.0</td>\n",
              "      <td>10001.0</td>\n",
              "      <td>410.0</td>\n",
              "      <td>10001.0</td>\n",
              "      <td>10001</td>\n",
              "      <td>10001.0</td>\n",
              "      <td>1.2</td>\n",
              "      <td>470.0</td>\n",
              "      <td>35.0</td>\n",
              "      <td>10001.0</td>\n",
              "    </tr>\n",
              "    <tr>\n",
              "      <th>1</th>\n",
              "      <td>NP_005148.2</td>\n",
              "      <td>ABL1</td>\n",
              "      <td>ABL1(E255K)-phosphorylated</td>\n",
              "      <td>10001.0</td>\n",
              "      <td>140.0</td>\n",
              "      <td>10001.0</td>\n",
              "      <td>10001.0</td>\n",
              "      <td>63.0</td>\n",
              "      <td>75.00</td>\n",
              "      <td>10001.0</td>\n",
              "      <td>...</td>\n",
              "      <td>56.0</td>\n",
              "      <td>10001.0</td>\n",
              "      <td>220.0</td>\n",
              "      <td>10001.0</td>\n",
              "      <td>10001</td>\n",
              "      <td>10001.0</td>\n",
              "      <td>22.0</td>\n",
              "      <td>190.0</td>\n",
              "      <td>40.0</td>\n",
              "      <td>13.0</td>\n",
              "    </tr>\n",
              "    <tr>\n",
              "      <th>2</th>\n",
              "      <td>NP_005148.2</td>\n",
              "      <td>ABL1</td>\n",
              "      <td>ABL1(F317I)-nonphosphorylated</td>\n",
              "      <td>10001.0</td>\n",
              "      <td>8.0</td>\n",
              "      <td>10001.0</td>\n",
              "      <td>10001.0</td>\n",
              "      <td>2600.0</td>\n",
              "      <td>1.90</td>\n",
              "      <td>10001.0</td>\n",
              "      <td>...</td>\n",
              "      <td>10001.0</td>\n",
              "      <td>10001.0</td>\n",
              "      <td>10001.0</td>\n",
              "      <td>10001.0</td>\n",
              "      <td>10001</td>\n",
              "      <td>10001.0</td>\n",
              "      <td>550.0</td>\n",
              "      <td>93.0</td>\n",
              "      <td>2100.0</td>\n",
              "      <td>770.0</td>\n",
              "    </tr>\n",
              "    <tr>\n",
              "      <th>3</th>\n",
              "      <td>NP_005148.2</td>\n",
              "      <td>ABL1</td>\n",
              "      <td>ABL1(F317I)-phosphorylated</td>\n",
              "      <td>10001.0</td>\n",
              "      <td>78.0</td>\n",
              "      <td>10001.0</td>\n",
              "      <td>10001.0</td>\n",
              "      <td>800.0</td>\n",
              "      <td>13.00</td>\n",
              "      <td>10001.0</td>\n",
              "      <td>...</td>\n",
              "      <td>1200.0</td>\n",
              "      <td>10001.0</td>\n",
              "      <td>10001.0</td>\n",
              "      <td>10001.0</td>\n",
              "      <td>10001</td>\n",
              "      <td>10001.0</td>\n",
              "      <td>130.0</td>\n",
              "      <td>14.0</td>\n",
              "      <td>560.0</td>\n",
              "      <td>170.0</td>\n",
              "    </tr>\n",
              "    <tr>\n",
              "      <th>4</th>\n",
              "      <td>NP_005148.2</td>\n",
              "      <td>ABL1</td>\n",
              "      <td>ABL1(F317L)-nonphosphorylated</td>\n",
              "      <td>10001.0</td>\n",
              "      <td>10.0</td>\n",
              "      <td>10001.0</td>\n",
              "      <td>10001.0</td>\n",
              "      <td>830.0</td>\n",
              "      <td>0.77</td>\n",
              "      <td>10001.0</td>\n",
              "      <td>...</td>\n",
              "      <td>10001.0</td>\n",
              "      <td>10001.0</td>\n",
              "      <td>10001.0</td>\n",
              "      <td>10001.0</td>\n",
              "      <td>10001</td>\n",
              "      <td>10001.0</td>\n",
              "      <td>170.0</td>\n",
              "      <td>54.0</td>\n",
              "      <td>450.0</td>\n",
              "      <td>75.0</td>\n",
              "    </tr>\n",
              "  </tbody>\n",
              "</table>\n",
              "<p>5 rows × 63 columns</p>\n",
              "</div>"
            ],
            "text/plain": [
              "  Accession Number Entrez Gene Symbol                         Kinase  \\\n",
              "0      NP_055726.3               AAK1                           AAK1   \n",
              "1      NP_005148.2               ABL1     ABL1(E255K)-phosphorylated   \n",
              "2      NP_005148.2               ABL1  ABL1(F317I)-nonphosphorylated   \n",
              "3      NP_005148.2               ABL1     ABL1(F317I)-phosphorylated   \n",
              "4      NP_005148.2               ABL1  ABL1(F317L)-nonphosphorylated   \n",
              "\n",
              "   A-674563  AB-1010  ABT-869    AC220  AG-013736   AST-487  AT-7519  ...  \\\n",
              "0      43.0  10001.0  10001.0  10001.0     1200.0  10001.00  10001.0  ...   \n",
              "1   10001.0    140.0  10001.0  10001.0       63.0     75.00  10001.0  ...   \n",
              "2   10001.0      8.0  10001.0  10001.0     2600.0      1.90  10001.0  ...   \n",
              "3   10001.0     78.0  10001.0  10001.0      800.0     13.00  10001.0  ...   \n",
              "4   10001.0     10.0  10001.0  10001.0      830.0      0.77  10001.0  ...   \n",
              "\n",
              "    PP-242  PTK-787     R406     R547  SB-203580  SGX-523  Staurosporine  \\\n",
              "0   1600.0  10001.0    410.0  10001.0      10001  10001.0            1.2   \n",
              "1     56.0  10001.0    220.0  10001.0      10001  10001.0           22.0   \n",
              "2  10001.0  10001.0  10001.0  10001.0      10001  10001.0          550.0   \n",
              "3   1200.0  10001.0  10001.0  10001.0      10001  10001.0          130.0   \n",
              "4  10001.0  10001.0  10001.0  10001.0      10001  10001.0          170.0   \n",
              "\n",
              "   TAE-684  TG-101348  Vandetanib  \n",
              "0    470.0       35.0     10001.0  \n",
              "1    190.0       40.0        13.0  \n",
              "2     93.0     2100.0       770.0  \n",
              "3     14.0      560.0       170.0  \n",
              "4     54.0      450.0        75.0  \n",
              "\n",
              "[5 rows x 63 columns]"
            ]
          },
          "execution_count": 5,
          "metadata": {},
          "output_type": "execute_result"
        }
      ],
      "source": [
        "table3 = pd.read_excel('Table-3_train.xlsx')\n",
        "table3.head()"
      ]
    },
    {
      "cell_type": "markdown",
      "metadata": {
        "id": "4rQX06mj-u7h"
      },
      "source": [
        "##all_seqs"
      ]
    },
    {
      "cell_type": "code",
      "execution_count": 6,
      "metadata": {
        "colab": {
          "base_uri": "https://localhost:8080/"
        },
        "collapsed": true,
        "id": "bmaco8wZF9eX",
        "outputId": "48e61d21-9897-415f-b91e-35e508e4c044"
      },
      "outputs": [
        {
          "data": {
            "text/plain": [
              "['AAK1',\n",
              " 'ABL1(E255K)-phosphorylated',\n",
              " 'ABL1(F317I)-nonphosphorylated',\n",
              " 'ABL1(F317I)-phosphorylated',\n",
              " 'ABL1(F317L)-nonphosphorylated']"
            ]
          },
          "execution_count": 6,
          "metadata": {},
          "output_type": "execute_result"
        }
      ],
      "source": [
        "# Retrieve amino acid sequences from pickle file\n",
        "with open(\"all_seqs.pkl\", \"rb\") as f:\n",
        "    all_seq = pickle.load(f)\n",
        "list(islice(all_seq, 5))"
      ]
    },
    {
      "cell_type": "markdown",
      "metadata": {
        "id": "ZqGbU2NNAT3_"
      },
      "source": [
        "##base_seq"
      ]
    },
    {
      "cell_type": "code",
      "execution_count": 7,
      "metadata": {
        "colab": {
          "base_uri": "https://localhost:8080/"
        },
        "id": "ATB-OekkjHqF",
        "outputId": "87e20035-f788-482b-97a6-f7554beabe5c"
      },
      "outputs": [
        {
          "data": {
            "text/plain": [
              "['NP_055726.3', 'NP_005148.2', 'NP_005149.3', 'NP_001096.1', 'NP_004293.1']"
            ]
          },
          "execution_count": 7,
          "metadata": {},
          "output_type": "execute_result"
        }
      ],
      "source": [
        "with open(\"base_seq.pkl\", \"rb\") as f:\n",
        "    base_seq = pickle.load(f)\n",
        "list(islice(base_seq, 5))"
      ]
    },
    {
      "cell_type": "markdown",
      "metadata": {
        "id": "ATi7eR6O_c33"
      },
      "source": [
        "##global_embeddings_max_length"
      ]
    },
    {
      "cell_type": "code",
      "execution_count": 8,
      "metadata": {
        "colab": {
          "base_uri": "https://localhost:8080/"
        },
        "id": "0zqNjH-H-pH-",
        "outputId": "938cab88-8b8f-47f5-b73c-cdca341dc6f5"
      },
      "outputs": [
        {
          "data": {
            "text/plain": [
              "array([[-4.2408835e-03,  3.2960442e-03, -1.5650194e-02, ...,\n",
              "         1.0579960e-05,  5.8259507e-06,  9.1596256e-08],\n",
              "       [-4.2408835e-03,  3.2960442e-03, -1.5650194e-02, ...,\n",
              "         5.5299056e-06,  1.7210321e-05,  2.3178212e-07],\n",
              "       [-4.2408835e-03,  3.2960442e-03, -1.5650194e-02, ...,\n",
              "         5.2921305e-06,  1.6433652e-05,  2.4846892e-07],\n",
              "       [-4.2408835e-03,  3.2960442e-03, -1.5650194e-02, ...,\n",
              "         5.2921305e-06,  1.6433652e-05,  2.4846892e-07],\n",
              "       [-4.2408835e-03,  3.2960442e-03, -1.5650194e-02, ...,\n",
              "         5.4387606e-06,  1.6194173e-05,  2.3473470e-07]], dtype=float32)"
            ]
          },
          "execution_count": 8,
          "metadata": {},
          "output_type": "execute_result"
        }
      ],
      "source": [
        "embeddings_ml = np.load(\"global_embeddings_max_length.npy\")\n",
        "embeddings_ml[:5]"
      ]
    },
    {
      "cell_type": "markdown",
      "metadata": {
        "id": "t3jZ-2rE_iA2"
      },
      "source": [
        "##global_embeddings_map"
      ]
    },
    {
      "cell_type": "code",
      "execution_count": 9,
      "metadata": {
        "colab": {
          "base_uri": "https://localhost:8080/"
        },
        "id": "mEFaCNgL_hgJ",
        "outputId": "bee142c7-7454-4a91-b263-f2080bf7ca05"
      },
      "outputs": [
        {
          "name": "stdout",
          "output_type": "stream",
          "text": [
            "[('AAK1', array([-4.2408835e-03,  3.2960442e-03, -1.5650194e-02, ...,\n",
            "        1.0579960e-05,  5.8259507e-06,  9.1596256e-08], dtype=float32)), ('ABL1(E255K)-phosphorylated', array([-4.2408835e-03,  3.2960442e-03, -1.5650194e-02, ...,\n",
            "        5.5299056e-06,  1.7210321e-05,  2.3178212e-07], dtype=float32)), ('ABL1(F317I)-nonphosphorylated', array([-4.2408835e-03,  3.2960442e-03, -1.5650194e-02, ...,\n",
            "        5.2921305e-06,  1.6433652e-05,  2.4846892e-07], dtype=float32)), ('ABL1(F317I)-phosphorylated', array([-4.2408835e-03,  3.2960442e-03, -1.5650194e-02, ...,\n",
            "        5.2921305e-06,  1.6433652e-05,  2.4846892e-07], dtype=float32)), ('ABL1(F317L)-nonphosphorylated', array([-4.2408835e-03,  3.2960442e-03, -1.5650194e-02, ...,\n",
            "        5.4387606e-06,  1.6194173e-05,  2.3473470e-07], dtype=float32))]\n"
          ]
        }
      ],
      "source": [
        "with open(\"global_embeddings_map.pkl\", \"rb\") as f:\n",
        "    embedding_map = pickle.load(f)  # {Kinase_Name: Index in global_embeddings}\n",
        "print(list(embedding_map.items())[:5])  # Show first 5 mappings"
      ]
    },
    {
      "cell_type": "code",
      "execution_count": 10,
      "metadata": {},
      "outputs": [
        {
          "name": "stdout",
          "output_type": "stream",
          "text": [
            "60\n",
            "Expected number of drugs: 60\n",
            "Filtered Data Shape: (442, 63)\n",
            "\n",
            "Filtered Data Sample:\n",
            "           Col1  Col2                           Col3 A-674563 AB-1010 ABT-869  \\\n",
            "0  NP_055726.3  AAK1                           AAK1        1       0       0   \n",
            "1  NP_005148.2  ABL1     ABL1(E255K)-phosphorylated        0       1       0   \n",
            "2  NP_005148.2  ABL1  ABL1(F317I)-nonphosphorylated        0       1       0   \n",
            "3  NP_005148.2  ABL1     ABL1(F317I)-phosphorylated        0       1       0   \n",
            "4  NP_005148.2  ABL1  ABL1(F317L)-nonphosphorylated        0       1       0   \n",
            "\n",
            "  AC220 AG-013736 AST-487 AT-7519  ... PP-242 PTK-787 R406 R547 SB-203580  \\\n",
            "0     0         1       0       0  ...      1       0    1    0         0   \n",
            "1     0         1       1       0  ...      1       0    1    0         0   \n",
            "2     0         1       1       0  ...      0       0    0    0         0   \n",
            "3     0         1       1       0  ...      1       0    0    0         0   \n",
            "4     0         1       1       0  ...      0       0    0    0         0   \n",
            "\n",
            "  SGX-523 Staurosporine TAE-684 TG-101348 Vandetanib  \n",
            "0       0             1       1         1          0  \n",
            "1       0             1       1         1          1  \n",
            "2       0             1       1         1          1  \n",
            "3       0             1       1         1          1  \n",
            "4       0             1       1         1          1  \n",
            "\n",
            "[5 rows x 63 columns]\n",
            "\n",
            "Sample of 'A-674563' Column:\n",
            " 0      1\n",
            "1      0\n",
            "2      0\n",
            "3      0\n",
            "4      0\n",
            "      ..\n",
            "437    0\n",
            "438    0\n",
            "439    1\n",
            "440    0\n",
            "441    0\n",
            "Name: A-674563, Length: 442, dtype: object\n"
          ]
        }
      ],
      "source": [
        "import numpy as np\n",
        "\n",
        "drug_names = np.array([\n",
        "    'A-674563', 'AB-1010', 'ABT-869', 'AC220', 'AG-013736', 'AST-487', 'AT-7519', 'AZD-1152HQPA',\n",
        "    'AZD-2171', 'AZD-6244/ARRY-886', 'BI-2536', 'BIBW-2992', 'BIRB-796', 'BMS-345541',\n",
        "    'BMS-387032/SNS-032', 'BMS-540215', 'CEP-701', 'CHIR-258/TKI-258', 'CHIR-265/RAF-265', 'CI-1033',\n",
        "    'CP-690550', 'Crizotinib', 'Dasatinib', 'Erlotinib', 'EXEL-2880/GSK-1363089', 'Flavopiridol',\n",
        "    'GDC-0879', 'GDC-0941', 'Gefitinib', 'GSK-1838705A', 'GSK-690693', 'GW-2580', 'HKI-272',\n",
        "    'Imatinib', 'INCB18424', 'JNJ-28312141', 'Ki-20227', 'KW-2449', 'Lapatinib', 'LY-317615',\n",
        "    'LY-333531', 'MLN-120B', 'MLN-518', 'MLN-8054', 'Nilotinib', 'Pazopanib', 'PD-173955',\n",
        "    'PHA-665752', 'PKC-412', 'PLX-4720', 'PP-242', 'PTK-787', 'R406', 'R547', 'SB-203580',\n",
        "    'SGX-523', 'Staurosporine', 'TAE-684', 'TG-101348', 'Vandetanib'\n",
        "])\n",
        "\n",
        "print(len(drug_names))\n",
        "\n",
        "# Convert table3 to NumPy array (if not already)\n",
        "table3 = np.array(table3)\n",
        "\n",
        "print(\"Expected number of drugs:\", len(drug_names))\n",
        "# print(\"Actual number of columns in coeffs:\", coeffs.shape[1])\n",
        "\n",
        "# Extract first 3 columns\n",
        "three_cols = table3[:, :3]\n",
        "\n",
        "# Extract the coefficients from column 3 onward\n",
        "coeffs = table3[:, 3:]\n",
        "\n",
        "# Create binary classification: 0 if value == 10001, else 1\n",
        "binary_values = np.where(coeffs == 10001, 0, 1)\n",
        "\n",
        "# Concatenate first 3 columns with binary data\n",
        "binary_data = np.hstack((three_cols, binary_values))\n",
        "\n",
        "column_names = np.concatenate((['Col1', 'Col2', 'Col3'], drug_names))\n",
        "df_binary = pd.DataFrame(binary_data, columns=column_names)\n",
        "\n",
        "\n",
        "\n",
        "# Filter rows where at least one value in the row is 0\n",
        "row_mask = np.any(binary_values == 0, axis=1)\n",
        "filtered_three_cols = three_cols[row_mask]\n",
        "filtered_binary_values = binary_values[row_mask]\n",
        "\n",
        "# Combine first 3 columns with filtered binary data\n",
        "filtered_data = np.hstack((filtered_three_cols, filtered_binary_values))\n",
        "\n",
        "# Create column names: first 3 are original, rest come from drug_names\n",
        "column_names = np.concatenate((['Col1', 'Col2', 'Col3'], drug_names))\n",
        "\n",
        "# Convert to Pandas DataFrame\n",
        "df_filtered = pd.DataFrame(filtered_data, columns=column_names)\n",
        "\n",
        "# Print DataFrame shape and sample\n",
        "print(\"Filtered Data Shape:\", df_filtered.shape)\n",
        "print(\"\\nFiltered Data Sample:\\n\", df_filtered.head())\n",
        "\n",
        "# Example: Access a specific drug column\n",
        "print(\"\\nSample of 'A-674563' Column:\\n\", df_filtered['A-674563'])"
      ]
    },
    {
      "cell_type": "markdown",
      "metadata": {
        "id": "T1VIHfSjSe3r"
      },
      "source": [
        "#Assign Embeddings to Each Kinase"
      ]
    },
    {
      "cell_type": "code",
      "execution_count": 11,
      "metadata": {
        "colab": {
          "base_uri": "https://localhost:8080/",
          "height": 463
        },
        "id": "U9wvwbwZa9-x",
        "outputId": "b6815104-3f3f-4e78-d9d6-cdfbc4191a19"
      },
      "outputs": [
        {
          "name": "stdout",
          "output_type": "stream",
          "text": [
            "Columns in table3: ['Accession Number', 'Entrez Gene Symbol', 'Kinase', 'A-674563', 'AB-1010', 'ABT-869', 'AC220', 'AG-013736', 'AST-487', 'AT-7519', 'AZD-1152HQPA', 'AZD-2171', 'AZD-6244/ARRY-886', 'BI-2536', 'BIBW-2992', 'BIRB-796', 'BMS-345541', 'BMS-387032/SNS-032', 'BMS-540215', 'CEP-701', 'CHIR-258/TKI-258', 'CHIR-265/RAF-265', 'CI-1033', 'CP-690550', 'Crizotinib', 'Dasatinib', 'Erlotinib', 'EXEL-2880/GSK-1363089', 'Flavopiridol', 'GDC-0879', 'GDC-0941', 'Gefitinib', 'GSK-1838705A', 'GSK-690693', 'GW-2580', 'HKI-272', 'Imatinib', 'INCB18424', 'JNJ-28312141', 'Ki-20227', 'KW-2449', 'Lapatinib', 'LY-317615', 'LY-333531', 'MLN-120B', 'MLN-518', 'MLN-8054', 'Nilotinib', 'Pazopanib', 'PD-173955', 'PHA-665752', 'PKC-412', 'PLX-4720', 'PP-242', 'PTK-787', 'R406', 'R547', 'SB-203580', 'SGX-523', 'Staurosporine', 'TAE-684', 'TG-101348', 'Vandetanib']\n"
          ]
        },
        {
          "data": {
            "text/html": [
              "<div>\n",
              "<style scoped>\n",
              "    .dataframe tbody tr th:only-of-type {\n",
              "        vertical-align: middle;\n",
              "    }\n",
              "\n",
              "    .dataframe tbody tr th {\n",
              "        vertical-align: top;\n",
              "    }\n",
              "\n",
              "    .dataframe thead th {\n",
              "        text-align: right;\n",
              "    }\n",
              "</style>\n",
              "<table border=\"1\" class=\"dataframe\">\n",
              "  <thead>\n",
              "    <tr style=\"text-align: right;\">\n",
              "      <th></th>\n",
              "      <th>Accession Number</th>\n",
              "      <th>Entrez Gene Symbol</th>\n",
              "      <th>Kinase</th>\n",
              "      <th>A-674563</th>\n",
              "      <th>AB-1010</th>\n",
              "      <th>ABT-869</th>\n",
              "      <th>AC220</th>\n",
              "      <th>AG-013736</th>\n",
              "      <th>AST-487</th>\n",
              "      <th>AT-7519</th>\n",
              "      <th>...</th>\n",
              "      <th>PTK-787</th>\n",
              "      <th>R406</th>\n",
              "      <th>R547</th>\n",
              "      <th>SB-203580</th>\n",
              "      <th>SGX-523</th>\n",
              "      <th>Staurosporine</th>\n",
              "      <th>TAE-684</th>\n",
              "      <th>TG-101348</th>\n",
              "      <th>Vandetanib</th>\n",
              "      <th>Kinase_Embedding</th>\n",
              "    </tr>\n",
              "  </thead>\n",
              "  <tbody>\n",
              "    <tr>\n",
              "      <th>0</th>\n",
              "      <td>NP_055726.3</td>\n",
              "      <td>AAK1</td>\n",
              "      <td>AAK1</td>\n",
              "      <td>43.0</td>\n",
              "      <td>10001.0</td>\n",
              "      <td>10001.0</td>\n",
              "      <td>10001.0</td>\n",
              "      <td>1200.0</td>\n",
              "      <td>10001.00</td>\n",
              "      <td>10001.0</td>\n",
              "      <td>...</td>\n",
              "      <td>10001.0</td>\n",
              "      <td>410.0</td>\n",
              "      <td>10001.0</td>\n",
              "      <td>10001</td>\n",
              "      <td>10001.0</td>\n",
              "      <td>1.2</td>\n",
              "      <td>470.0</td>\n",
              "      <td>35.0</td>\n",
              "      <td>10001.0</td>\n",
              "      <td>[-0.0042408835, 0.0032960442, -0.015650194, 0....</td>\n",
              "    </tr>\n",
              "    <tr>\n",
              "      <th>1</th>\n",
              "      <td>NP_005148.2</td>\n",
              "      <td>ABL1</td>\n",
              "      <td>ABL1(E255K)-phosphorylated</td>\n",
              "      <td>10001.0</td>\n",
              "      <td>140.0</td>\n",
              "      <td>10001.0</td>\n",
              "      <td>10001.0</td>\n",
              "      <td>63.0</td>\n",
              "      <td>75.00</td>\n",
              "      <td>10001.0</td>\n",
              "      <td>...</td>\n",
              "      <td>10001.0</td>\n",
              "      <td>220.0</td>\n",
              "      <td>10001.0</td>\n",
              "      <td>10001</td>\n",
              "      <td>10001.0</td>\n",
              "      <td>22.0</td>\n",
              "      <td>190.0</td>\n",
              "      <td>40.0</td>\n",
              "      <td>13.0</td>\n",
              "      <td>[-0.0042408835, 0.0032960442, -0.015650194, 0....</td>\n",
              "    </tr>\n",
              "    <tr>\n",
              "      <th>2</th>\n",
              "      <td>NP_005148.2</td>\n",
              "      <td>ABL1</td>\n",
              "      <td>ABL1(F317I)-nonphosphorylated</td>\n",
              "      <td>10001.0</td>\n",
              "      <td>8.0</td>\n",
              "      <td>10001.0</td>\n",
              "      <td>10001.0</td>\n",
              "      <td>2600.0</td>\n",
              "      <td>1.90</td>\n",
              "      <td>10001.0</td>\n",
              "      <td>...</td>\n",
              "      <td>10001.0</td>\n",
              "      <td>10001.0</td>\n",
              "      <td>10001.0</td>\n",
              "      <td>10001</td>\n",
              "      <td>10001.0</td>\n",
              "      <td>550.0</td>\n",
              "      <td>93.0</td>\n",
              "      <td>2100.0</td>\n",
              "      <td>770.0</td>\n",
              "      <td>[-0.0042408835, 0.0032960442, -0.015650194, 0....</td>\n",
              "    </tr>\n",
              "    <tr>\n",
              "      <th>3</th>\n",
              "      <td>NP_005148.2</td>\n",
              "      <td>ABL1</td>\n",
              "      <td>ABL1(F317I)-phosphorylated</td>\n",
              "      <td>10001.0</td>\n",
              "      <td>78.0</td>\n",
              "      <td>10001.0</td>\n",
              "      <td>10001.0</td>\n",
              "      <td>800.0</td>\n",
              "      <td>13.00</td>\n",
              "      <td>10001.0</td>\n",
              "      <td>...</td>\n",
              "      <td>10001.0</td>\n",
              "      <td>10001.0</td>\n",
              "      <td>10001.0</td>\n",
              "      <td>10001</td>\n",
              "      <td>10001.0</td>\n",
              "      <td>130.0</td>\n",
              "      <td>14.0</td>\n",
              "      <td>560.0</td>\n",
              "      <td>170.0</td>\n",
              "      <td>[-0.0042408835, 0.0032960442, -0.015650194, 0....</td>\n",
              "    </tr>\n",
              "    <tr>\n",
              "      <th>4</th>\n",
              "      <td>NP_005148.2</td>\n",
              "      <td>ABL1</td>\n",
              "      <td>ABL1(F317L)-nonphosphorylated</td>\n",
              "      <td>10001.0</td>\n",
              "      <td>10.0</td>\n",
              "      <td>10001.0</td>\n",
              "      <td>10001.0</td>\n",
              "      <td>830.0</td>\n",
              "      <td>0.77</td>\n",
              "      <td>10001.0</td>\n",
              "      <td>...</td>\n",
              "      <td>10001.0</td>\n",
              "      <td>10001.0</td>\n",
              "      <td>10001.0</td>\n",
              "      <td>10001</td>\n",
              "      <td>10001.0</td>\n",
              "      <td>170.0</td>\n",
              "      <td>54.0</td>\n",
              "      <td>450.0</td>\n",
              "      <td>75.0</td>\n",
              "      <td>[-0.0042408835, 0.0032960442, -0.015650194, 0....</td>\n",
              "    </tr>\n",
              "  </tbody>\n",
              "</table>\n",
              "<p>5 rows × 64 columns</p>\n",
              "</div>"
            ],
            "text/plain": [
              "  Accession Number Entrez Gene Symbol                         Kinase  \\\n",
              "0      NP_055726.3               AAK1                           AAK1   \n",
              "1      NP_005148.2               ABL1     ABL1(E255K)-phosphorylated   \n",
              "2      NP_005148.2               ABL1  ABL1(F317I)-nonphosphorylated   \n",
              "3      NP_005148.2               ABL1     ABL1(F317I)-phosphorylated   \n",
              "4      NP_005148.2               ABL1  ABL1(F317L)-nonphosphorylated   \n",
              "\n",
              "   A-674563  AB-1010  ABT-869    AC220  AG-013736   AST-487  AT-7519  ...  \\\n",
              "0      43.0  10001.0  10001.0  10001.0     1200.0  10001.00  10001.0  ...   \n",
              "1   10001.0    140.0  10001.0  10001.0       63.0     75.00  10001.0  ...   \n",
              "2   10001.0      8.0  10001.0  10001.0     2600.0      1.90  10001.0  ...   \n",
              "3   10001.0     78.0  10001.0  10001.0      800.0     13.00  10001.0  ...   \n",
              "4   10001.0     10.0  10001.0  10001.0      830.0      0.77  10001.0  ...   \n",
              "\n",
              "   PTK-787     R406     R547  SB-203580  SGX-523  Staurosporine  TAE-684  \\\n",
              "0  10001.0    410.0  10001.0      10001  10001.0            1.2    470.0   \n",
              "1  10001.0    220.0  10001.0      10001  10001.0           22.0    190.0   \n",
              "2  10001.0  10001.0  10001.0      10001  10001.0          550.0     93.0   \n",
              "3  10001.0  10001.0  10001.0      10001  10001.0          130.0     14.0   \n",
              "4  10001.0  10001.0  10001.0      10001  10001.0          170.0     54.0   \n",
              "\n",
              "   TG-101348  Vandetanib                                   Kinase_Embedding  \n",
              "0       35.0     10001.0  [-0.0042408835, 0.0032960442, -0.015650194, 0....  \n",
              "1       40.0        13.0  [-0.0042408835, 0.0032960442, -0.015650194, 0....  \n",
              "2     2100.0       770.0  [-0.0042408835, 0.0032960442, -0.015650194, 0....  \n",
              "3      560.0       170.0  [-0.0042408835, 0.0032960442, -0.015650194, 0....  \n",
              "4      450.0        75.0  [-0.0042408835, 0.0032960442, -0.015650194, 0....  \n",
              "\n",
              "[5 rows x 64 columns]"
            ]
          },
          "execution_count": 11,
          "metadata": {},
          "output_type": "execute_result"
        }
      ],
      "source": [
        "# Function to retrieve precomputed embedding for a kinase\n",
        "def get_precomputed_embedding(kinase_name):\n",
        "    embedding = embedding_map.get(kinase_name)\n",
        "\n",
        "    if isinstance(embedding, np.ndarray):  # Ensure it's an array\n",
        "        return embedding  # Directly return the embedding\n",
        "    else:\n",
        "        return np.zeros(embeddings_ml.shape[1])  # Return a zero vector if missing\n",
        "table3 = pd.read_excel('Table-3_train.xlsx')  # Reload as DataFrame\n",
        "# print(\"Reloaded table3 columns:\", table3.columns)\n",
        "\n",
        "# if not isinstance(table3, pd.DataFrame):\n",
        "#     table3 = pd.DataFrame(table3)\n",
        "\n",
        "# Apply to Kd dataset\n",
        "print(\"Columns in table3:\", table3.columns.tolist())\n",
        "\n",
        "table3[\"Kinase_Embedding\"] = table3[\"Kinase\"].apply(get_precomputed_embedding)\n",
        "table3.head()"
      ]
    },
    {
      "cell_type": "markdown",
      "metadata": {
        "id": "NJfImpXgBezn"
      },
      "source": [
        "#Convert SMILES to Fingerprint"
      ]
    },
    {
      "cell_type": "code",
      "execution_count": 12,
      "metadata": {
        "colab": {
          "base_uri": "https://localhost:8080/"
        },
        "id": "oQ0q8Ag0S8zy",
        "outputId": "3655c61c-d51f-48b3-e9ae-3e1f57f3dc57"
      },
      "outputs": [
        {
          "name": "stdout",
          "output_type": "stream",
          "text": [
            "Fingerprint as list: 0     [0, 1, 0, 0, 0, 0, 0, 0, 0, 0, 0, 0, 0, 0, 0, ...\n",
            "1     [0, 1, 0, 1, 0, 0, 0, 0, 0, 0, 0, 0, 0, 0, 1, ...\n",
            "2     [0, 0, 0, 0, 0, 0, 0, 0, 0, 0, 0, 0, 0, 0, 0, ...\n",
            "3     [0, 0, 0, 0, 0, 0, 1, 0, 0, 0, 1, 1, 0, 1, 0, ...\n",
            "4     [0, 1, 0, 0, 0, 0, 0, 0, 0, 0, 0, 0, 0, 0, 0, ...\n",
            "5     [1, 0, 0, 0, 1, 0, 1, 0, 0, 0, 0, 0, 0, 0, 1, ...\n",
            "6     [0, 0, 1, 0, 0, 0, 0, 0, 0, 0, 0, 0, 0, 0, 0, ...\n",
            "7     [0, 0, 0, 0, 0, 0, 0, 0, 0, 0, 1, 0, 1, 1, 0, ...\n",
            "8     [1, 0, 0, 0, 1, 0, 0, 0, 0, 0, 0, 0, 1, 1, 0, ...\n",
            "9     [1, 0, 0, 0, 0, 1, 1, 0, 0, 0, 0, 0, 1, 1, 0, ...\n",
            "10    [1, 0, 0, 0, 1, 1, 0, 0, 0, 0, 0, 0, 0, 0, 1, ...\n",
            "11    [0, 0, 0, 0, 0, 0, 0, 0, 0, 0, 0, 1, 1, 0, 0, ...\n",
            "12    [0, 0, 0, 0, 0, 0, 0, 1, 0, 0, 0, 1, 1, 1, 0, ...\n",
            "13    [0, 0, 1, 0, 0, 0, 0, 0, 0, 1, 0, 0, 0, 0, 0, ...\n",
            "14    [0, 0, 0, 0, 0, 0, 0, 0, 0, 0, 0, 0, 0, 0, 0, ...\n",
            "15    [0, 1, 0, 1, 0, 0, 0, 0, 0, 0, 0, 0, 0, 0, 0, ...\n",
            "16    [0, 0, 0, 0, 1, 1, 0, 0, 1, 0, 0, 1, 0, 0, 0, ...\n",
            "17    [0, 0, 0, 0, 0, 0, 0, 0, 1, 0, 0, 1, 0, 0, 1, ...\n",
            "18    [0, 0, 1, 0, 0, 0, 0, 0, 0, 0, 0, 0, 0, 0, 0, ...\n",
            "19    [0, 0, 0, 0, 0, 0, 0, 0, 0, 0, 0, 1, 1, 1, 0, ...\n",
            "20    [0, 0, 1, 1, 0, 0, 0, 0, 0, 0, 0, 0, 0, 0, 0, ...\n",
            "21    [0, 1, 0, 0, 0, 0, 0, 0, 0, 0, 0, 0, 0, 0, 0, ...\n",
            "22    [0, 0, 0, 0, 0, 0, 0, 0, 0, 0, 0, 0, 0, 0, 0, ...\n",
            "23    [0, 0, 0, 0, 0, 0, 0, 0, 0, 0, 0, 0, 1, 1, 0, ...\n",
            "24    [1, 0, 0, 0, 0, 0, 1, 0, 0, 0, 0, 1, 1, 1, 0, ...\n",
            "25    [0, 0, 0, 0, 0, 0, 0, 0, 0, 0, 0, 0, 0, 0, 0, ...\n",
            "26    [0, 0, 0, 0, 0, 0, 0, 0, 0, 0, 0, 0, 0, 0, 1, ...\n",
            "27    [0, 0, 0, 0, 0, 0, 0, 0, 1, 0, 0, 1, 1, 0, 0, ...\n",
            "28    [1, 0, 0, 0, 0, 0, 0, 0, 0, 0, 0, 1, 1, 1, 0, ...\n",
            "29    [1, 0, 1, 0, 0, 0, 0, 0, 1, 0, 0, 0, 0, 0, 0, ...\n",
            "30    [0, 0, 0, 0, 1, 0, 1, 0, 0, 0, 0, 0, 0, 1, 0, ...\n",
            "31    [1, 0, 0, 1, 0, 0, 0, 0, 0, 0, 0, 0, 0, 1, 0, ...\n",
            "32    [0, 0, 0, 0, 0, 0, 0, 0, 0, 1, 0, 0, 1, 0, 0, ...\n",
            "33    [0, 1, 0, 1, 0, 0, 0, 0, 0, 0, 0, 0, 0, 0, 1, ...\n",
            "34    [0, 1, 1, 0, 1, 0, 0, 0, 0, 0, 0, 0, 0, 0, 0, ...\n",
            "35    [0, 0, 1, 0, 1, 0, 0, 0, 0, 0, 0, 1, 0, 0, 1, ...\n",
            "36    [1, 1, 0, 0, 0, 0, 0, 0, 0, 0, 0, 0, 1, 0, 1, ...\n",
            "37    [0, 0, 0, 0, 0, 0, 0, 0, 0, 0, 0, 0, 0, 0, 0, ...\n",
            "38    [0, 0, 0, 0, 0, 0, 0, 0, 0, 0, 0, 0, 0, 0, 1, ...\n",
            "39    [0, 0, 0, 0, 0, 1, 1, 0, 0, 1, 0, 0, 0, 0, 0, ...\n",
            "40    [0, 0, 1, 0, 0, 1, 0, 0, 0, 1, 0, 0, 0, 0, 0, ...\n",
            "41    [1, 0, 0, 0, 0, 0, 0, 0, 0, 0, 1, 0, 0, 0, 0, ...\n",
            "42    [1, 1, 1, 0, 1, 0, 0, 0, 0, 0, 0, 0, 1, 1, 0, ...\n",
            "43    [0, 0, 0, 0, 0, 1, 0, 0, 1, 0, 0, 0, 0, 0, 0, ...\n",
            "44    [0, 1, 0, 1, 0, 0, 0, 0, 0, 0, 0, 0, 0, 0, 1, ...\n",
            "45    [0, 0, 0, 0, 0, 0, 0, 0, 0, 0, 0, 1, 1, 0, 0, ...\n",
            "46    [0, 0, 1, 1, 0, 0, 0, 0, 0, 0, 0, 0, 0, 0, 0, ...\n",
            "47    [0, 0, 0, 0, 1, 1, 0, 0, 0, 0, 0, 0, 0, 0, 0, ...\n",
            "48    [0, 0, 0, 0, 1, 1, 0, 0, 1, 1, 0, 1, 1, 0, 0, ...\n",
            "49    [0, 0, 0, 0, 0, 0, 0, 0, 0, 1, 0, 0, 0, 0, 0, ...\n",
            "50    [0, 1, 0, 0, 0, 0, 0, 0, 0, 0, 0, 1, 0, 0, 0, ...\n",
            "51    [0, 0, 0, 0, 0, 0, 0, 1, 0, 0, 0, 0, 0, 0, 0, ...\n",
            "52    [1, 0, 1, 0, 0, 0, 0, 0, 0, 0, 0, 1, 0, 0, 0, ...\n",
            "53    [1, 0, 0, 0, 0, 1, 0, 0, 0, 1, 0, 0, 0, 0, 0, ...\n",
            "54    [0, 0, 0, 0, 0, 0, 0, 0, 0, 0, 0, 0, 0, 0, 0, ...\n",
            "55    [0, 1, 0, 0, 0, 0, 0, 0, 0, 0, 0, 0, 0, 0, 0, ...\n",
            "56    [0, 0, 0, 0, 1, 1, 0, 0, 1, 1, 0, 1, 1, 0, 0, ...\n",
            "57    [1, 1, 0, 0, 0, 0, 0, 0, 0, 0, 0, 0, 0, 0, 1, ...\n",
            "58    [0, 0, 0, 0, 1, 0, 0, 0, 0, 0, 1, 0, 0, 1, 0, ...\n",
            "59    [1, 0, 0, 0, 0, 0, 0, 0, 0, 0, 0, 0, 1, 0, 0, ...\n",
            "Name: Fingerprint, dtype: object\n"
          ]
        },
        {
          "name": "stderr",
          "output_type": "stream",
          "text": [
            "[13:24:42] DEPRECATION WARNING: please use MorganGenerator\n",
            "[13:24:42] DEPRECATION WARNING: please use MorganGenerator\n",
            "[13:24:42] DEPRECATION WARNING: please use MorganGenerator\n",
            "[13:24:42] DEPRECATION WARNING: please use MorganGenerator\n",
            "[13:24:42] DEPRECATION WARNING: please use MorganGenerator\n",
            "[13:24:42] DEPRECATION WARNING: please use MorganGenerator\n",
            "[13:24:42] DEPRECATION WARNING: please use MorganGenerator\n",
            "[13:24:42] DEPRECATION WARNING: please use MorganGenerator\n",
            "[13:24:42] DEPRECATION WARNING: please use MorganGenerator\n",
            "[13:24:42] DEPRECATION WARNING: please use MorganGenerator\n",
            "[13:24:42] DEPRECATION WARNING: please use MorganGenerator\n",
            "[13:24:42] DEPRECATION WARNING: please use MorganGenerator\n",
            "[13:24:42] DEPRECATION WARNING: please use MorganGenerator\n",
            "[13:24:42] DEPRECATION WARNING: please use MorganGenerator\n",
            "[13:24:42] DEPRECATION WARNING: please use MorganGenerator\n",
            "[13:24:42] DEPRECATION WARNING: please use MorganGenerator\n",
            "[13:24:42] DEPRECATION WARNING: please use MorganGenerator\n",
            "[13:24:42] DEPRECATION WARNING: please use MorganGenerator\n",
            "[13:24:42] DEPRECATION WARNING: please use MorganGenerator\n",
            "[13:24:42] DEPRECATION WARNING: please use MorganGenerator\n",
            "[13:24:42] DEPRECATION WARNING: please use MorganGenerator\n",
            "[13:24:42] DEPRECATION WARNING: please use MorganGenerator\n",
            "[13:24:42] DEPRECATION WARNING: please use MorganGenerator\n",
            "[13:24:42] DEPRECATION WARNING: please use MorganGenerator\n",
            "[13:24:42] DEPRECATION WARNING: please use MorganGenerator\n",
            "[13:24:42] DEPRECATION WARNING: please use MorganGenerator\n",
            "[13:24:42] DEPRECATION WARNING: please use MorganGenerator\n",
            "[13:24:42] DEPRECATION WARNING: please use MorganGenerator\n",
            "[13:24:42] DEPRECATION WARNING: please use MorganGenerator\n",
            "[13:24:42] DEPRECATION WARNING: please use MorganGenerator\n",
            "[13:24:42] DEPRECATION WARNING: please use MorganGenerator\n",
            "[13:24:42] DEPRECATION WARNING: please use MorganGenerator\n",
            "[13:24:42] DEPRECATION WARNING: please use MorganGenerator\n",
            "[13:24:42] DEPRECATION WARNING: please use MorganGenerator\n",
            "[13:24:42] DEPRECATION WARNING: please use MorganGenerator\n",
            "[13:24:42] DEPRECATION WARNING: please use MorganGenerator\n",
            "[13:24:42] DEPRECATION WARNING: please use MorganGenerator\n",
            "[13:24:42] DEPRECATION WARNING: please use MorganGenerator\n",
            "[13:24:42] DEPRECATION WARNING: please use MorganGenerator\n",
            "[13:24:42] DEPRECATION WARNING: please use MorganGenerator\n",
            "[13:24:42] DEPRECATION WARNING: please use MorganGenerator\n",
            "[13:24:42] DEPRECATION WARNING: please use MorganGenerator\n",
            "[13:24:42] DEPRECATION WARNING: please use MorganGenerator\n",
            "[13:24:42] DEPRECATION WARNING: please use MorganGenerator\n",
            "[13:24:42] DEPRECATION WARNING: please use MorganGenerator\n",
            "[13:24:42] DEPRECATION WARNING: please use MorganGenerator\n",
            "[13:24:42] DEPRECATION WARNING: please use MorganGenerator\n",
            "[13:24:42] DEPRECATION WARNING: please use MorganGenerator\n",
            "[13:24:42] DEPRECATION WARNING: please use MorganGenerator\n",
            "[13:24:42] DEPRECATION WARNING: please use MorganGenerator\n",
            "[13:24:42] DEPRECATION WARNING: please use MorganGenerator\n",
            "[13:24:42] DEPRECATION WARNING: please use MorganGenerator\n",
            "[13:24:42] DEPRECATION WARNING: please use MorganGenerator\n",
            "[13:24:42] DEPRECATION WARNING: please use MorganGenerator\n",
            "[13:24:42] DEPRECATION WARNING: please use MorganGenerator\n",
            "[13:24:42] DEPRECATION WARNING: please use MorganGenerator\n",
            "[13:24:42] DEPRECATION WARNING: please use MorganGenerator\n",
            "[13:24:42] DEPRECATION WARNING: please use MorganGenerator\n",
            "[13:24:42] DEPRECATION WARNING: please use MorganGenerator\n",
            "[13:24:42] DEPRECATION WARNING: please use MorganGenerator\n"
          ]
        }
      ],
      "source": [
        "def smiles_to_fingerprint(smiles, radius=2, nBits=256):\n",
        "    mol = Chem.MolFromSmiles(smiles)\n",
        "    return np.array(AllChem.GetMorganFingerprintAsBitVect(mol, radius, nBits)) if mol else np.zeros(nBits)\n",
        "\n",
        "table2[\"Fingerprint\"] = table2[\"SMILES\"].apply(smiles_to_fingerprint)\n",
        "\n",
        "fingerprint = table2[\"Fingerprint\"]\n",
        "\n",
        "print(\"Fingerprint as list:\", fingerprint)\n",
        "\n"
      ]
    },
    {
      "cell_type": "markdown",
      "metadata": {
        "id": "uynsK1cGLN_C"
      },
      "source": [
        "#Encode Kinase Groups"
      ]
    },
    {
      "cell_type": "code",
      "execution_count": 13,
      "metadata": {
        "id": "JYmsVCzGLP9P"
      },
      "outputs": [],
      "source": [
        "label_encoder = LabelEncoder()\n",
        "kinase_groups_encoded = label_encoder.fit_transform(table1[\"Kinase Group\"])"
      ]
    },
    {
      "cell_type": "markdown",
      "metadata": {
        "id": "28Z5NuqhL1TT"
      },
      "source": [
        "#Encode Mutant types"
      ]
    },
    {
      "cell_type": "code",
      "execution_count": 14,
      "metadata": {
        "id": "vrbFHUvOL07r"
      },
      "outputs": [],
      "source": [
        "mutant_encoded = label_encoder.fit_transform(table1[\"Mutant\"])"
      ]
    },
    {
      "cell_type": "markdown",
      "metadata": {
        "id": "2WHHlhzeCbkz"
      },
      "source": [
        "#Encode Binding Mode"
      ]
    },
    {
      "cell_type": "code",
      "execution_count": 15,
      "metadata": {
        "id": "s5YtLvA_Cdvp"
      },
      "outputs": [],
      "source": [
        "binding_mode_encoded = label_encoder.fit_transform(table2[\"Binding Mode (based on ABL1-phos. vs. -nonphos affinity)\"])"
      ]
    },
    {
      "cell_type": "markdown",
      "metadata": {
        "id": "zfu-sXU9EzFr"
      },
      "source": [
        "#Get Coeffs Of Each Kinase For Each Inhibator"
      ]
    },
    {
      "cell_type": "code",
      "execution_count": 16,
      "metadata": {
        "id": "77-72_YdD9cH"
      },
      "outputs": [],
      "source": [
        "keys = list(table3.keys())[3:-1]\n",
        "diss_const = table3.get(keys)"
      ]
    },
    {
      "cell_type": "markdown",
      "metadata": {
        "id": "UKsChvdgE8a5"
      },
      "source": [
        "#Get Kinase Embedding"
      ]
    },
    {
      "cell_type": "code",
      "execution_count": 17,
      "metadata": {
        "id": "W3dC4YTXE50m"
      },
      "outputs": [],
      "source": [
        "kinase_em = table3[\"Kinase_Embedding\"]\n",
        "kinase_em = np.array([np.asarray(x) for x in kinase_em], dtype=object)"
      ]
    },
    {
      "cell_type": "markdown",
      "metadata": {
        "id": "t-lCxYoLfoHZ"
      },
      "source": [
        "#PCA"
      ]
    },
    {
      "cell_type": "code",
      "execution_count": 18,
      "metadata": {
        "id": "IbiSmQH5g0dj"
      },
      "outputs": [],
      "source": [
        "scaler = StandardScaler()\n",
        "kinase_em_standardized = scaler.fit_transform(kinase_em)\n",
        "\n",
        "n_components = 300 #such that explained variance is 100\n",
        "pca = PCA(n_components=n_components)\n",
        "reduced_em = pca.fit_transform(kinase_em_standardized)"
      ]
    },
    {
      "cell_type": "code",
      "execution_count": 19,
      "metadata": {
        "id": "6wQjA_GFNL6P"
      },
      "outputs": [],
      "source": [
        "X = []\n",
        "\n",
        "Kd_melted = table3.melt(id_vars=[\"Kinase\"], var_name=\"Compound\", value_name=\"Kd\")\n",
        "\n",
        "Kd_final = Kd_melted.merge(table2[['Compound', 'Fingerprint']], on=\"Compound\", how=\"left\")\n",
        "\n",
        "Kd_final = Kd_final.merge(table1[['Kinase', 'Kinase Group', 'Mutant']], on=\"Kinase\", how=\"left\")"
      ]
    },
    {
      "cell_type": "markdown",
      "metadata": {
        "id": "-ZdvJ2RGB_bB"
      },
      "source": [
        "#Pre-Processing"
      ]
    },
    {
      "cell_type": "markdown",
      "metadata": {},
      "source": []
    },
    {
      "cell_type": "code",
      "execution_count": 20,
      "metadata": {
        "colab": {
          "base_uri": "https://localhost:8080/"
        },
        "id": "biRqe07fjYE6",
        "outputId": "26958612-ce30-41c3-970f-353b64951d2f"
      },
      "outputs": [
        {
          "name": "stdout",
          "output_type": "stream",
          "text": [
            "(442, 300)\n"
          ]
        }
      ],
      "source": [
        "print(reduced_em.shape)"
      ]
    },
    {
      "cell_type": "code",
      "execution_count": 21,
      "metadata": {
        "colab": {
          "base_uri": "https://localhost:8080/"
        },
        "id": "bltnp2ecZ2ZZ",
        "outputId": "a83b471c-8d16-4b68-8a35-0605b36ad9ee"
      },
      "outputs": [
        {
          "name": "stdout",
          "output_type": "stream",
          "text": [
            "(26520, 2)\n"
          ]
        }
      ],
      "source": [
        "mutant_encoded = np.array(mutant_encoded).reshape(-1, 1)\n",
        "kinase_groups_encoded = np.array(kinase_groups_encoded).reshape(-1, 1)\n",
        "reduced_em = np.array(reduced_em)\n",
        "kinase = np.hstack((mutant_encoded, kinase_groups_encoded, reduced_em))\n",
        "testing_kinase = kinase\n",
        "\n",
        "#print(final_array.shape)\n",
        "\n",
        "fingerprint = np.array(fingerprint).reshape(-1, 1)\n",
        "binding_mode_encoded = np.array(binding_mode_encoded).reshape(-1, 1)\n",
        "inihibator = np.hstack((fingerprint, binding_mode_encoded))\n",
        "\n",
        "kinase = np.repeat(kinase, repeats=60, axis=0)\n",
        "\n",
        "inihibator = np.tile(inihibator, (442, 1))\n",
        "print(inihibator.shape)"
      ]
    },
    {
      "cell_type": "code",
      "execution_count": 22,
      "metadata": {
        "colab": {
          "base_uri": "https://localhost:8080/"
        },
        "id": "Tl2ZbXEC-VOA",
        "outputId": "907a0346-1193-4668-f554-c821f4bc66c0"
      },
      "outputs": [
        {
          "name": "stdout",
          "output_type": "stream",
          "text": [
            "[[0.0 6.0 -0.8137522446645905 ... -0.3978031819837683\n",
            "  array([0, 1, 0, 0, 0, 0, 0, 0, 0, 0, 0, 0, 0, 0, 0, 0, 0, 1, 1, 0, 0, 0,\n",
            "         0, 0, 0, 0, 0, 0, 0, 0, 0, 0, 0, 1, 0, 0, 0, 0, 0, 0, 0, 0, 1, 0,\n",
            "         0, 0, 0, 0, 0, 0, 0, 0, 0, 0, 0, 0, 0, 0, 0, 0, 0, 0, 0, 0, 1, 0,\n",
            "         1, 1, 0, 0, 0, 0, 0, 1, 1, 0, 0, 1, 0, 1, 1, 1, 1, 0, 0, 0, 1, 0,\n",
            "         0, 1, 1, 0, 0, 0, 0, 0, 0, 0, 0, 1, 1, 0, 0, 0, 0, 0, 0, 1, 0, 0,\n",
            "         0, 0, 0, 0, 0, 0, 0, 0, 1, 0, 0, 0, 1, 0, 0, 0, 0, 0, 1, 0, 0, 0,\n",
            "         0, 1, 0, 0, 1, 0, 0, 0, 0, 0, 1, 0, 0, 0, 0, 1, 0, 0, 0, 1, 0, 0,\n",
            "         0, 0, 0, 0, 0, 0, 0, 0, 0, 0, 0, 1, 0, 0, 0, 0, 0, 0, 1, 1, 0, 1,\n",
            "         0, 0, 0, 0, 1, 0, 0, 1, 0, 0, 1, 0, 0, 0, 0, 0, 0, 1, 0, 0, 0, 1,\n",
            "         0, 0, 0, 0, 1, 0, 0, 0, 0, 0, 1, 0, 0, 0, 1, 0, 1, 0, 0, 0, 1, 0,\n",
            "         0, 1, 0, 0, 0, 0, 0, 0, 0, 0, 0, 0, 0, 0, 0, 0, 0, 0, 0, 0, 0, 1,\n",
            "         0, 1, 0, 0, 0, 0, 0, 0, 0, 0, 0, 0, 0, 1])\n",
            "  2]\n",
            " [0.0 6.0 -0.8137522446645905 ... -0.3978031819837683\n",
            "  array([0, 1, 0, 1, 0, 0, 0, 0, 0, 0, 0, 0, 0, 0, 1, 0, 1, 0, 0, 1, 0, 0,\n",
            "         0, 0, 1, 0, 0, 0, 0, 1, 0, 1, 0, 1, 0, 0, 0, 0, 0, 1, 1, 0, 0, 0,\n",
            "         0, 0, 0, 0, 0, 0, 1, 0, 0, 0, 1, 0, 0, 0, 0, 0, 0, 0, 0, 1, 1, 0,\n",
            "         0, 1, 0, 0, 0, 0, 0, 0, 1, 1, 0, 0, 0, 0, 1, 1, 0, 0, 0, 0, 0, 0,\n",
            "         0, 0, 0, 0, 0, 0, 0, 0, 0, 0, 0, 0, 1, 0, 0, 0, 0, 1, 0, 1, 0, 0,\n",
            "         0, 1, 0, 0, 0, 0, 0, 1, 0, 0, 0, 1, 1, 0, 0, 1, 0, 0, 1, 1, 0, 0,\n",
            "         0, 0, 0, 1, 1, 0, 1, 0, 0, 0, 0, 0, 0, 0, 1, 1, 0, 0, 0, 0, 0, 0,\n",
            "         0, 1, 0, 0, 1, 0, 0, 1, 0, 1, 1, 0, 0, 1, 0, 0, 0, 0, 0, 0, 0, 0,\n",
            "         0, 0, 0, 0, 0, 1, 0, 0, 1, 0, 1, 0, 0, 0, 1, 1, 0, 0, 0, 0, 0, 0,\n",
            "         0, 0, 1, 0, 0, 0, 0, 0, 0, 1, 0, 0, 0, 0, 1, 0, 1, 0, 0, 0, 1, 0,\n",
            "         0, 0, 0, 0, 1, 0, 0, 0, 0, 1, 1, 0, 0, 0, 0, 1, 0, 0, 0, 0, 1, 0,\n",
            "         1, 0, 0, 0, 0, 0, 0, 0, 0, 0, 0, 0, 0, 1])\n",
            "  1]\n",
            " [0.0 6.0 -0.8137522446645905 ... -0.3978031819837683\n",
            "  array([0, 0, 0, 0, 0, 0, 0, 0, 0, 0, 0, 0, 0, 0, 0, 1, 0, 0, 0, 0, 0, 0,\n",
            "         0, 0, 1, 0, 0, 0, 0, 0, 0, 1, 0, 1, 0, 0, 0, 0, 0, 1, 0, 0, 0, 0,\n",
            "         0, 0, 0, 0, 1, 0, 0, 0, 1, 1, 0, 0, 1, 0, 0, 0, 0, 1, 0, 0, 1, 0,\n",
            "         0, 0, 0, 0, 0, 0, 0, 0, 1, 1, 0, 0, 0, 0, 0, 1, 0, 0, 0, 0, 0, 0,\n",
            "         0, 0, 1, 1, 0, 0, 0, 0, 1, 0, 0, 0, 1, 0, 0, 0, 0, 0, 0, 1, 0, 0,\n",
            "         0, 0, 0, 0, 0, 0, 0, 0, 0, 1, 0, 0, 1, 0, 0, 1, 0, 0, 1, 0, 0, 0,\n",
            "         0, 0, 0, 0, 1, 0, 1, 0, 0, 0, 0, 0, 0, 0, 0, 1, 0, 0, 0, 0, 0, 0,\n",
            "         0, 0, 0, 0, 0, 0, 0, 0, 0, 0, 1, 0, 0, 0, 0, 0, 0, 0, 0, 0, 0, 0,\n",
            "         0, 1, 0, 1, 0, 0, 0, 0, 0, 0, 1, 1, 0, 0, 0, 1, 1, 0, 0, 0, 0, 1,\n",
            "         1, 0, 1, 0, 0, 0, 0, 0, 0, 0, 0, 1, 0, 0, 1, 1, 1, 0, 1, 0, 0, 0,\n",
            "         0, 0, 1, 0, 0, 0, 0, 0, 0, 0, 0, 0, 0, 0, 0, 1, 0, 0, 0, 0, 0, 0,\n",
            "         0, 0, 0, 1, 0, 1, 0, 0, 0, 0, 0, 0, 0, 1])\n",
            "  2]\n",
            " [0.0 6.0 -0.8137522446645905 ... -0.3978031819837683\n",
            "  array([0, 0, 0, 0, 0, 0, 1, 0, 0, 0, 1, 1, 0, 1, 0, 0, 0, 0, 0, 0, 0, 1,\n",
            "         0, 0, 1, 0, 0, 0, 0, 0, 0, 0, 0, 1, 0, 0, 0, 0, 1, 1, 1, 0, 0, 0,\n",
            "         0, 1, 0, 1, 0, 0, 0, 0, 0, 1, 0, 0, 1, 1, 0, 1, 0, 0, 0, 1, 0, 0,\n",
            "         1, 0, 0, 0, 0, 0, 0, 0, 0, 1, 0, 0, 0, 0, 1, 1, 0, 0, 0, 0, 0, 0,\n",
            "         1, 0, 0, 0, 1, 0, 0, 0, 0, 0, 0, 0, 1, 0, 0, 0, 0, 0, 0, 1, 0, 0,\n",
            "         0, 0, 0, 0, 1, 0, 0, 1, 0, 0, 0, 1, 1, 0, 0, 1, 0, 0, 1, 0, 0, 0,\n",
            "         0, 0, 0, 0, 1, 0, 1, 0, 0, 0, 0, 0, 1, 0, 0, 0, 0, 0, 0, 0, 0, 0,\n",
            "         0, 0, 0, 1, 1, 0, 0, 1, 1, 1, 1, 0, 0, 1, 0, 1, 0, 0, 1, 0, 0, 1,\n",
            "         0, 1, 1, 1, 0, 0, 1, 1, 0, 0, 0, 0, 0, 0, 0, 1, 0, 0, 1, 0, 1, 1,\n",
            "         1, 0, 1, 0, 1, 0, 0, 0, 1, 0, 1, 0, 0, 0, 1, 0, 1, 0, 0, 0, 0, 0,\n",
            "         0, 1, 0, 0, 1, 0, 0, 0, 0, 1, 0, 0, 0, 0, 0, 0, 0, 1, 0, 0, 0, 0,\n",
            "         0, 0, 0, 0, 0, 0, 1, 0, 0, 0, 0, 0, 0, 1])\n",
            "  1]\n",
            " [0.0 6.0 -0.8137522446645905 ... -0.3978031819837683\n",
            "  array([0, 1, 0, 0, 0, 0, 0, 0, 0, 0, 0, 0, 0, 0, 0, 0, 0, 0, 0, 0, 0, 0,\n",
            "         0, 0, 0, 0, 0, 0, 0, 0, 0, 0, 0, 1, 0, 0, 0, 0, 0, 1, 1, 0, 0, 1,\n",
            "         0, 1, 0, 0, 0, 0, 0, 0, 0, 0, 0, 0, 1, 0, 0, 0, 0, 1, 0, 0, 1, 0,\n",
            "         1, 1, 1, 0, 0, 0, 0, 0, 1, 0, 0, 1, 0, 0, 0, 1, 0, 1, 0, 1, 0, 0,\n",
            "         1, 1, 1, 0, 0, 0, 0, 0, 0, 0, 0, 0, 1, 0, 0, 0, 0, 0, 0, 1, 0, 0,\n",
            "         0, 0, 0, 0, 0, 0, 1, 1, 0, 1, 0, 1, 1, 0, 0, 1, 0, 0, 1, 0, 0, 1,\n",
            "         0, 0, 0, 0, 0, 1, 1, 0, 0, 0, 0, 0, 0, 0, 0, 1, 0, 0, 1, 0, 0, 0,\n",
            "         0, 0, 0, 0, 0, 0, 0, 0, 1, 0, 0, 0, 0, 1, 0, 1, 0, 0, 1, 0, 1, 1,\n",
            "         0, 0, 0, 0, 0, 0, 1, 0, 0, 0, 0, 0, 0, 0, 0, 0, 1, 0, 0, 0, 0, 1,\n",
            "         0, 1, 0, 0, 0, 0, 0, 0, 0, 0, 0, 1, 0, 0, 1, 0, 1, 0, 0, 0, 0, 0,\n",
            "         0, 0, 0, 0, 1, 0, 0, 0, 0, 0, 1, 1, 0, 0, 0, 0, 0, 0, 0, 0, 0, 0,\n",
            "         0, 0, 0, 0, 0, 0, 0, 0, 0, 0, 0, 0, 1, 0])\n",
            "  0]]\n",
            "[[   43.]\n",
            " [10001.]\n",
            " [10001.]\n",
            " [10001.]\n",
            " [10001.]]\n"
          ]
        }
      ],
      "source": [
        "X = np.hstack((kinase, inihibator))\n",
        "\n",
        "y = np.hstack([diss_const['A-674563'][:], diss_const['AB-1010'][:], diss_const['ABT-869'], diss_const['AC220'], diss_const['AG-013736'], diss_const['AST-487'], diss_const['AT-7519'], diss_const['AZD-1152HQPA'], diss_const['AZD-2171'], diss_const['AZD-6244/ARRY-886'], diss_const['BI-2536'], diss_const['BIBW-2992'], diss_const['BIRB-796'], diss_const['BMS-345541'], diss_const['BMS-387032/SNS-032'], diss_const['BMS-540215'], diss_const['CEP-701'], diss_const['CHIR-258/TKI-258'], diss_const['CHIR-265/RAF-265'], diss_const['CI-1033'], diss_const['CP-690550'], diss_const['Crizotinib'], diss_const['Dasatinib'], diss_const['Erlotinib'], diss_const['EXEL-2880/GSK-1363089'], diss_const['Flavopiridol'], diss_const['GDC-0879'], diss_const['GDC-0941'], diss_const['Gefitinib'], diss_const['GSK-1838705A'], diss_const['GSK-690693'], diss_const['GW-2580'], diss_const['HKI-272'], diss_const['Imatinib'], diss_const['INCB18424'], diss_const['JNJ-28312141'], diss_const['Ki-20227'], diss_const['KW-2449'], diss_const['Lapatinib'], diss_const['LY-317615'], diss_const['LY-333531'], diss_const['MLN-120B'], diss_const['MLN-518'], diss_const['MLN-8054'], diss_const['Nilotinib'], diss_const['Pazopanib'], diss_const['PD-173955'], diss_const['PHA-665752'], diss_const['PKC-412'], diss_const['PLX-4720'], diss_const['PP-242'], diss_const['PTK-787'], diss_const['R406'], diss_const['R547'], diss_const['SB-203580'], diss_const['SGX-523'], diss_const['Staurosporine'], diss_const['TAE-684'], diss_const['TG-101348'], diss_const['Vandetanib']])\n",
        "y = np.array(y).reshape(-1, 1)\n",
        "\n",
        "print(X[:5])\n",
        "print(y[:5])\n",
        "#[diss_const['A-674563'], diss_const['AB-1010'], diss_const['ABT-869'], diss_const['AC220'], diss_const['AG-013736'], diss_const['AST-487'], diss_const['AT-7519'], diss_const['AZD-1152HQPA'], diss_const['AZD-2171'], diss_const['AZD-6244/ARRY-886'], diss_const['BI-2536'], diss_const['BIBW-2992'], diss_const['BIRB-796'], diss_const['BMS-345541'], diss_const['BMS-387032/SNS-032'], diss_const['BMS-540215'], diss_const['CEP-701'], diss_const['CHIR-258/TKI-258'], diss_const['CHIR-265/RAF-265'], diss_const['CI-1033'], diss_const['CP-690550'], diss_const['Crizotinib'], diss_const['Dasatinib'], diss_const['Erlotinib'], diss_const['EXEL-2880/GSK-1363089'], diss_const['Flavopiridol'], diss_const['GDC-0879'], diss_const['GDC-0941'], diss_const['Gefitinib'], diss_const['GSK-1838705A'], diss_const['GSK-690693'], diss_const['GW-2580'], diss_const['HKI-272'], diss_const['Imatinib'], diss_const['INCB18424'], diss_const['JNJ-28312141'], diss_const['Ki-20227'], diss_const['KW-2449'], diss_const['Lapatinib'], diss_const['LY-317615'], diss_const['LY-333531'], diss_const['MLN-120B'], diss_const['MLN-518'], diss_const['MLN-8054'], diss_const['Nilotinib'], diss_const['Pazopanib'], diss_const['PD-173955'], diss_const['PHA-665752'], diss_const['PKC-412'], diss_const['PLX-4720'], diss_const['PP-242'], diss_const['PTK-787'], diss_const['R406'], diss_const['R547'], diss_const['SB-203580'], diss_const['SGX-523'], diss_const['Staurosporine'], diss_const['TAE-684'], diss_const['TG-101348'], diss_const['Vandetanib']]"
      ]
    },
    {
      "cell_type": "markdown",
      "metadata": {
        "id": "RE3kUCjrnxfq"
      },
      "source": [
        "#Model"
      ]
    },
    {
      "cell_type": "markdown",
      "metadata": {},
      "source": [
        "Pure Regression"
      ]
    },
    {
      "cell_type": "code",
      "execution_count": 23,
      "metadata": {
        "colab": {
          "base_uri": "https://localhost:8080/"
        },
        "id": "l06q55-IoFlC",
        "outputId": "bcea9cf6-73e3-48fe-d9b3-979bdb80354e"
      },
      "outputs": [
        {
          "name": "stdout",
          "output_type": "stream",
          "text": [
            "New shape of X: (26520, 559)\n",
            "Train set shape: (18564, 559)\n",
            "Y_train set shape: (18564, 1)\n",
            "[[1.0001e+04]\n",
            " [1.0000e+01]\n",
            " [6.0000e+00]\n",
            " [1.0001e+04]\n",
            " [1.0001e+04]]\n",
            "Validation set shape: (3978, 559)\n",
            "Test set shape: (3978, 559)\n",
            "max_depth: 3, Validation MAE: 2404.89\n",
            "max_depth: 4, Validation MAE: 2252.19\n",
            "max_depth: 5, Validation MAE: 2270.20\n",
            "max_depth: 6, Validation MAE: 2231.38\n",
            "max_depth: 7, Validation MAE: 2374.76\n",
            "max_depth: 8, Validation MAE: 2201.81\n",
            "max_depth: 9, Validation MAE: 2265.19\n",
            "max_depth: 10, Validation MAE: 2455.62\n",
            "\n",
            "Best max_depth: 8 with Validation MAE: 2201.81\n"
          ]
        },
        {
          "data": {
            "image/png": "[encoded data removed]",
            "text/plain": [
              "<Figure size 800x600 with 1 Axes>"
            ]
          },
          "metadata": {},
          "output_type": "display_data"
        },
        {
          "name": "stdout",
          "output_type": "stream",
          "text": [
            "\n",
            "Final Test MAE: 2190.05 nM\n",
            "\n",
            "Final Test MAE: 1757.48 nM\n"
          ]
        }
      ],
      "source": [
        "import numpy as np\n",
        "import xgboost as xgb\n",
        "import matplotlib.pyplot as plt\n",
        "from sklearn.model_selection import train_test_split\n",
        "from sklearn.metrics import mean_absolute_error\n",
        "\n",
        "# --- Step 1: Ensure all columns in X are scalars ---\n",
        "def flatten_features(X):\n",
        "    \"\"\"\n",
        "    Convert an array X of shape (n_samples, n_features) where some features are arrays\n",
        "    into a uniform 2D array where every feature is a scalar.\n",
        "    \"\"\"\n",
        "    # Convert X to list-of-lists for easier processing.\n",
        "    X_list = X.tolist()\n",
        "    n_samples = len(X_list)\n",
        "    n_features = X.shape[1]\n",
        "    \n",
        "    processed_columns = []\n",
        "    \n",
        "    for j in range(n_features):\n",
        "        # Check the first element in this column\n",
        "        first_elem = X_list[0][j]\n",
        "        if isinstance(first_elem, (list, np.ndarray)):\n",
        "            # If it's a nested array, convert every row's j-th element to a flattened array\n",
        "            col_array = np.array([np.array(row[j]).flatten() for row in X_list])\n",
        "            # col_array now has shape (n_samples, k) where k is the length of the nested array.\n",
        "            processed_columns.append(col_array)\n",
        "        else:\n",
        "            # If it's a scalar, ensure it's a column vector.\n",
        "            col_array = np.array([row[j] for row in X_list]).reshape(-1, 1)\n",
        "            processed_columns.append(col_array)\n",
        "    \n",
        "    # Concatenate all columns horizontally\n",
        "    X_processed = np.hstack(processed_columns)\n",
        "    return X_processed\n",
        "\n",
        "Y = np.array(y, dtype=float)\n",
        "\n",
        "# Flatten any nested columns in X\n",
        "X_processed = flatten_features(X)\n",
        "print(\"New shape of X:\", X_processed.shape)\n",
        "\n",
        "# --- Step 2: Split the data into 70% train, 15% validation, and 15% test ---\n",
        "X_train_full, X_temp, y_train_full, y_temp = train_test_split(X_processed, Y, test_size=0.30, random_state=42)\n",
        "X_val, X_test, y_val, y_test = train_test_split(X_temp, y_temp, test_size=0.50, random_state=42)\n",
        "\n",
        "print(\"Train set shape:\", X_train_full.shape)\n",
        "print(\"Y_train set shape:\", y_train_full.shape)\n",
        "print(y_train_full[:5])\n",
        "print(\"Validation set shape:\", X_val.shape)\n",
        "print(\"Test set shape:\", X_test.shape)\n",
        "\n",
        "# --- Step 3: Evaluate different max_depth values using the training and validation sets ---\n",
        "max_depths = [3,4,5,6,7,8,9,10]\n",
        "val_mae_values = []\n",
        "\n",
        "for depth in max_depths:\n",
        "    model = xgb.XGBRegressor(\n",
        "        objective='reg:absoluteerror',  # Use MAE as the loss function\n",
        "        max_depth=depth,\n",
        "        eval_metric='mae',              # Report MAE during training\n",
        "        random_state=42\n",
        "    )\n",
        "    model.fit(X_train_full, y_train_full)\n",
        "    y_pred_val = model.predict(X_val)\n",
        "    mae_val = mean_absolute_error(y_val, y_pred_val)\n",
        "    val_mae_values.append(mae_val)\n",
        "    print(f\"max_depth: {depth}, Validation MAE: {mae_val:.2f}\")\n",
        "\n",
        "# Find the best max_depth based on the lowest validation MAE\n",
        "best_index = np.argmin(val_mae_values)\n",
        "best_depth = max_depths[best_index]\n",
        "print(f\"\\nBest max_depth: {best_depth} with Validation MAE: {val_mae_values[best_index]:.2f}\")\n",
        "\n",
        "# Plot the validation MAE vs. max_depth\n",
        "plt.figure(figsize=(8, 6))\n",
        "plt.plot(max_depths, val_mae_values, marker='o', linestyle='-')\n",
        "plt.xlabel('max_depth')\n",
        "plt.ylabel('Validation MAE')\n",
        "plt.title('Validation MAE vs. max_depth for XGBoost Regressor')\n",
        "plt.grid(True)\n",
        "plt.show()\n",
        "\n",
        "# --- Step 4: Retrain final model on training+validation set and evaluate on test set ---\n",
        "X_train_val = np.concatenate((X_train_full, X_val), axis=0)\n",
        "y_train_val = np.concatenate((y_train_full, y_val), axis=0)\n",
        "\n",
        "final_model = xgb.XGBRegressor(\n",
        "    objective='reg:absoluteerror',\n",
        "    max_depth=best_depth,\n",
        "    eval_metric='mae',\n",
        "    random_state=42\n",
        ")\n",
        "final_model.fit(X_train_val, y_train_val)\n",
        "\n",
        "# Evaluate the final model on the unseen test set\n",
        "y_pred_test = final_model.predict(X_test)\n",
        "test_mae = mean_absolute_error(y_test, y_pred_test)\n",
        "print(f\"\\nFinal Test MAE: {test_mae:.2f} nM\")\n",
        "\n",
        "y_pred_train = final_model.predict(X_train_full)\n",
        "test_mae = mean_absolute_error(y_train_full, y_pred_train)\n",
        "print(f\"\\nFinal Test MAE: {test_mae:.2f} nM\")\n"
      ]
    },
    {
      "cell_type": "markdown",
      "metadata": {},
      "source": [
        "Binary classification betwen 10001 and others"
      ]
    },
    {
      "cell_type": "code",
      "execution_count": 24,
      "metadata": {},
      "outputs": [
        {
          "name": "stdout",
          "output_type": "stream",
          "text": [
            "New shape of X: (26520, 559)\n",
            "[[0]\n",
            " [1]\n",
            " [1]\n",
            " ...\n",
            " [0]\n",
            " [0]\n",
            " [1]]\n",
            "Train set shape: (18564, 559)\n",
            "Validation set shape: (3978, 559)\n",
            "Test set shape: (3978, 559)\n",
            "[0]\tvalidation_0-mlogloss:0.61763\n",
            "[1]\tvalidation_0-mlogloss:0.56986\n",
            "[2]\tvalidation_0-mlogloss:0.53889\n",
            "[3]\tvalidation_0-mlogloss:0.52303\n",
            "[4]\tvalidation_0-mlogloss:0.51137\n",
            "[5]\tvalidation_0-mlogloss:0.50309\n",
            "[6]\tvalidation_0-mlogloss:0.49917\n",
            "[7]\tvalidation_0-mlogloss:0.49246\n",
            "[8]\tvalidation_0-mlogloss:0.49043\n",
            "[9]\tvalidation_0-mlogloss:0.48710\n",
            "[10]\tvalidation_0-mlogloss:0.48505\n",
            "[11]\tvalidation_0-mlogloss:0.48341\n",
            "[12]\tvalidation_0-mlogloss:0.48221\n",
            "[13]\tvalidation_0-mlogloss:0.48152\n",
            "[14]\tvalidation_0-mlogloss:0.48124\n",
            "[15]\tvalidation_0-mlogloss:0.48055\n",
            "[16]\tvalidation_0-mlogloss:0.48031\n",
            "[17]\tvalidation_0-mlogloss:0.47965\n",
            "[18]\tvalidation_0-mlogloss:0.47933\n",
            "[19]\tvalidation_0-mlogloss:0.47921\n",
            "[20]\tvalidation_0-mlogloss:0.47872\n",
            "[21]\tvalidation_0-mlogloss:0.47859\n",
            "[22]\tvalidation_0-mlogloss:0.48052\n",
            "[23]\tvalidation_0-mlogloss:0.48032\n",
            "[24]\tvalidation_0-mlogloss:0.48025\n",
            "[25]\tvalidation_0-mlogloss:0.48043\n",
            "[26]\tvalidation_0-mlogloss:0.48061\n",
            "[27]\tvalidation_0-mlogloss:0.47996\n",
            "[28]\tvalidation_0-mlogloss:0.48020\n",
            "[29]\tvalidation_0-mlogloss:0.48070\n",
            "[30]\tvalidation_0-mlogloss:0.48158\n",
            "[31]\tvalidation_0-mlogloss:0.48293\n",
            "[32]\tvalidation_0-mlogloss:0.48275\n",
            "[33]\tvalidation_0-mlogloss:0.48237\n",
            "[34]\tvalidation_0-mlogloss:0.48258\n",
            "[35]\tvalidation_0-mlogloss:0.48294\n",
            "[36]\tvalidation_0-mlogloss:0.48331\n",
            "[37]\tvalidation_0-mlogloss:0.48408\n",
            "[38]\tvalidation_0-mlogloss:0.48433\n",
            "[39]\tvalidation_0-mlogloss:0.48394\n",
            "[40]\tvalidation_0-mlogloss:0.48449\n",
            "[41]\tvalidation_0-mlogloss:0.48437\n",
            "[42]\tvalidation_0-mlogloss:0.48411\n",
            "[43]\tvalidation_0-mlogloss:0.48418\n",
            "[44]\tvalidation_0-mlogloss:0.48359\n",
            "[45]\tvalidation_0-mlogloss:0.48470\n",
            "[46]\tvalidation_0-mlogloss:0.48472\n",
            "[47]\tvalidation_0-mlogloss:0.48529\n",
            "[48]\tvalidation_0-mlogloss:0.48621\n",
            "[49]\tvalidation_0-mlogloss:0.48672\n",
            "[50]\tvalidation_0-mlogloss:0.48788\n",
            "[51]\tvalidation_0-mlogloss:0.48795\n",
            "[52]\tvalidation_0-mlogloss:0.48852\n",
            "[53]\tvalidation_0-mlogloss:0.48892\n",
            "[54]\tvalidation_0-mlogloss:0.48939\n",
            "[55]\tvalidation_0-mlogloss:0.48886\n",
            "[56]\tvalidation_0-mlogloss:0.48816\n",
            "[57]\tvalidation_0-mlogloss:0.48923\n",
            "[58]\tvalidation_0-mlogloss:0.48902\n",
            "[59]\tvalidation_0-mlogloss:0.48897\n",
            "[60]\tvalidation_0-mlogloss:0.49015\n",
            "[61]\tvalidation_0-mlogloss:0.49024\n",
            "[62]\tvalidation_0-mlogloss:0.48960\n",
            "[63]\tvalidation_0-mlogloss:0.48897\n",
            "[64]\tvalidation_0-mlogloss:0.48895\n",
            "[65]\tvalidation_0-mlogloss:0.48936\n",
            "[66]\tvalidation_0-mlogloss:0.48989\n",
            "[67]\tvalidation_0-mlogloss:0.49042\n",
            "[68]\tvalidation_0-mlogloss:0.49060\n",
            "[69]\tvalidation_0-mlogloss:0.49100\n",
            "[70]\tvalidation_0-mlogloss:0.49050\n",
            "[71]\tvalidation_0-mlogloss:0.49085\n",
            "[72]\tvalidation_0-mlogloss:0.49033\n",
            "[73]\tvalidation_0-mlogloss:0.49102\n",
            "[74]\tvalidation_0-mlogloss:0.49100\n",
            "[75]\tvalidation_0-mlogloss:0.49158\n",
            "[76]\tvalidation_0-mlogloss:0.49124\n",
            "[77]\tvalidation_0-mlogloss:0.49143\n",
            "[78]\tvalidation_0-mlogloss:0.49257\n",
            "[79]\tvalidation_0-mlogloss:0.49313\n",
            "[80]\tvalidation_0-mlogloss:0.49427\n",
            "[81]\tvalidation_0-mlogloss:0.49414\n",
            "[82]\tvalidation_0-mlogloss:0.49431\n",
            "[83]\tvalidation_0-mlogloss:0.49445\n",
            "[84]\tvalidation_0-mlogloss:0.49469\n",
            "[85]\tvalidation_0-mlogloss:0.49499\n",
            "[86]\tvalidation_0-mlogloss:0.49462\n",
            "[87]\tvalidation_0-mlogloss:0.49512\n",
            "[88]\tvalidation_0-mlogloss:0.49431\n",
            "[89]\tvalidation_0-mlogloss:0.49435\n",
            "[90]\tvalidation_0-mlogloss:0.49470\n",
            "[91]\tvalidation_0-mlogloss:0.49513\n",
            "[92]\tvalidation_0-mlogloss:0.49487\n",
            "[93]\tvalidation_0-mlogloss:0.49582\n",
            "[94]\tvalidation_0-mlogloss:0.49600\n",
            "[95]\tvalidation_0-mlogloss:0.49619\n",
            "[96]\tvalidation_0-mlogloss:0.49795\n",
            "[97]\tvalidation_0-mlogloss:0.49854\n",
            "[98]\tvalidation_0-mlogloss:0.49852\n",
            "[99]\tvalidation_0-mlogloss:0.49927\n",
            "\n",
            "Test Accuracy: 77.45%\n",
            "\n",
            "Classification Report:\n",
            "              precision    recall  f1-score   support\n",
            "\n",
            "           0       0.66      0.47      0.55      1164\n",
            "           1       0.80      0.90      0.85      2814\n",
            "\n",
            "    accuracy                           0.77      3978\n",
            "   macro avg       0.73      0.68      0.70      3978\n",
            "weighted avg       0.76      0.77      0.76      3978\n",
            "\n"
          ]
        }
      ],
      "source": [
        "import xgboost as xgb\n",
        "import numpy as np\n",
        "import matplotlib.pyplot as plt\n",
        "from sklearn.model_selection import train_test_split\n",
        "from sklearn.metrics import accuracy_score, classification_report\n",
        "\n",
        "def flatten_features(X):\n",
        "    \"\"\"\n",
        "    Convert an array X of shape (n_samples, n_features) where some features are arrays\n",
        "    into a uniform 2D array where every feature is a scalar.\n",
        "    \"\"\"\n",
        "    # Convert X to list-of-lists for easier processing.\n",
        "    X_list = X.tolist()\n",
        "    n_samples = len(X_list)\n",
        "    n_features = X.shape[1]\n",
        "    \n",
        "    processed_columns = []\n",
        "    \n",
        "    for j in range(n_features):\n",
        "        # Check the first element in this column\n",
        "        first_elem = X_list[0][j]\n",
        "        if isinstance(first_elem, (list, np.ndarray)):\n",
        "            # If it's a nested array, convert every row's j-th element to a flattened array\n",
        "            col_array = np.array([np.array(row[j]).flatten() for row in X_list])\n",
        "            # col_array now has shape (n_samples, k) where k is the length of the nested array.\n",
        "            processed_columns.append(col_array)\n",
        "        else:\n",
        "            # If it's a scalar, ensure it's a column vector.\n",
        "            col_array = np.array([row[j] for row in X_list]).reshape(-1, 1)\n",
        "            processed_columns.append(col_array)\n",
        "    \n",
        "    # Concatenate all columns horizontally\n",
        "    X_processed = np.hstack(processed_columns)\n",
        "    return X_processed\n",
        "\n",
        "Y = np.array(y, dtype=float)\n",
        "\n",
        "# Flatten any nested columns in X\n",
        "X_processed = flatten_features(X)\n",
        "print(\"New shape of X:\", X_processed.shape)\n",
        "Y_cat = np.where(Y == 10001, 1, 0)\n",
        "print(Y_cat)\n",
        "\n",
        "# Split the data: 70% train, 15% validation, 15% test.\n",
        "X_train, X_temp, y_train, y_temp = train_test_split(X_processed, Y_cat, test_size=0.30, random_state=42)\n",
        "X_val, X_test, y_val, y_test = train_test_split(X_temp, y_temp, test_size=0.50, random_state=42)\n",
        "\n",
        "print(\"Train set shape:\", X_train.shape)\n",
        "print(\"Validation set shape:\", X_val.shape)\n",
        "print(\"Test set shape:\", X_test.shape)\n",
        "\n",
        "binary_classification_model = xgb.XGBClassifier(\n",
        "    objective='multi:softmax',\n",
        "    num_class=len(np.unique(y_train)),\n",
        "    eval_metric='mlogloss',\n",
        "    max_depth=5,             \n",
        "    random_state=42\n",
        ")\n",
        "\n",
        "binary_classification_model.fit(\n",
        "    X_train, y_train,\n",
        "    eval_set=[(X_val, y_val)],\n",
        "    verbose=True\n",
        ")\n",
        "\n",
        "# Predict on the test set.\n",
        "y_pred = binary_classification_model.predict(X_test)\n",
        "\n",
        "accuracy = accuracy_score(y_test, y_pred)\n",
        "print(\"\\nTest Accuracy: {:.2f}%\".format(accuracy * 100))\n",
        "print(\"\\nClassification Report:\")\n",
        "print(classification_report(y_test, y_pred))\n"
      ]
    },
    {
      "cell_type": "markdown",
      "metadata": {},
      "source": [
        "regression on correlated data"
      ]
    },
    {
      "cell_type": "code",
      "execution_count": 25,
      "metadata": {},
      "outputs": [
        {
          "name": "stdout",
          "output_type": "stream",
          "text": [
            "Shape of Y after squeeze: (26520,)\n",
            "Mask shape: (26520,)\n",
            "Filtered X shape: (7680, 559)\n",
            "Filtered Y shape: (7680, 1)\n",
            "Train set shape: (5376, 559)\n",
            "Validation set shape: (1152, 559)\n",
            "Test set shape: (1152, 559)\n",
            "max_depth: 1, Validation MAE: 1388.88\n",
            "max_depth: 2, Validation MAE: 1357.86\n",
            "max_depth: 3, Validation MAE: 1369.94\n",
            "max_depth: 4, Validation MAE: 1371.87\n",
            "max_depth: 5, Validation MAE: 1405.42\n",
            "max_depth: 6, Validation MAE: 1414.14\n",
            "max_depth: 7, Validation MAE: 1431.39\n",
            "max_depth: 8, Validation MAE: 1483.70\n",
            "max_depth: 9, Validation MAE: 1496.16\n",
            "max_depth: 10, Validation MAE: 1499.20\n",
            "\n",
            "Best max_depth: 2 with Validation MAE: 1357.86\n"
          ]
        },
        {
          "data": {
            "image/png": "[encoded data removed]",
            "text/plain": [
              "<Figure size 800x600 with 1 Axes>"
            ]
          },
          "metadata": {},
          "output_type": "display_data"
        },
        {
          "name": "stdout",
          "output_type": "stream",
          "text": [
            "\n",
            "Final Test MAE: 1174.15 nM\n",
            "[ 755.59436   129.50392   346.19       49.003117 1469.0698  ]\n",
            "[[3.5e+03]\n",
            " [2.7e+03]\n",
            " [4.7e+02]\n",
            " [2.4e+00]\n",
            " [4.7e+03]]\n"
          ]
        }
      ],
      "source": [
        "import numpy as np\n",
        "\n",
        "# Ensure Y is a 1D array (flattening if necessary)\n",
        "Y = np.squeeze(Y)   # Now Y should have shape (n,) instead of (1, n)\n",
        "\n",
        "# Verify the shape of Y\n",
        "print(\"Shape of Y after squeeze:\", Y.shape)\n",
        "\n",
        "# Create a boolean mask where Y is not equal to 10001\n",
        "mask = (Y != 10001)\n",
        "print(\"Mask shape:\", mask.shape)\n",
        "\n",
        "# Now use the mask to filter rows in X and Y.\n",
        "X_filtered = X_processed[mask]\n",
        "\n",
        "Y_filtered = Y[mask]\n",
        "Y_filtered = Y_filtered.reshape(-1, 1)\n",
        "\n",
        "\n",
        "print(\"Filtered X shape:\", X_filtered.shape)\n",
        "print(\"Filtered Y shape:\", Y_filtered.shape)\n",
        "\n",
        "X_train_full, X_temp, y_train_full, y_temp = train_test_split(X_filtered, Y_filtered, test_size=0.30, random_state=42)\n",
        "X_val, X_test, y_val, y_test = train_test_split(X_temp, y_temp, test_size=0.50, random_state=42)\n",
        "\n",
        "print(\"Train set shape:\", X_train_full.shape)\n",
        "print(\"Validation set shape:\", X_val.shape)\n",
        "print(\"Test set shape:\", X_test.shape)\n",
        "\n",
        "# --- Step 3: Evaluate different max_depth values using the training and validation sets ---\n",
        "max_depths = [1,2,3,4,5,6,7,8,9,10]\n",
        "val_mae_values = []\n",
        "\n",
        "for depth in max_depths:\n",
        "    model = xgb.XGBRegressor(\n",
        "        objective='reg:absoluteerror',  # Use MAE as the loss function\n",
        "        max_depth=depth,\n",
        "        eval_metric='mae',              # Report MAE during training\n",
        "        random_state=42\n",
        "    )\n",
        "    model.fit(X_train_full, y_train_full)\n",
        "    y_pred_val = model.predict(X_val)\n",
        "    mae_val = mean_absolute_error(y_val, y_pred_val)\n",
        "    val_mae_values.append(mae_val)\n",
        "    print(f\"max_depth: {depth}, Validation MAE: {mae_val:.2f}\")\n",
        "\n",
        "# Find the best max_depth based on the lowest validation MAE\n",
        "best_index = np.argmin(val_mae_values)\n",
        "best_depth = max_depths[best_index]\n",
        "print(f\"\\nBest max_depth: {best_depth} with Validation MAE: {val_mae_values[best_index]:.2f}\")\n",
        "\n",
        "# Plot the validation MAE vs. max_depth\n",
        "plt.figure(figsize=(8, 6))\n",
        "plt.plot(max_depths, val_mae_values, marker='o', linestyle='-')\n",
        "plt.xlabel('max_depth')\n",
        "plt.ylabel('Validation MAE')\n",
        "plt.title('Validation MAE vs. max_depth for XGBoost Regressor')\n",
        "plt.grid(True)\n",
        "plt.show()\n",
        "\n",
        "# --- Step 4: Retrain final model on training+validation set and evaluate on test set ---\n",
        "X_train_val = np.concatenate((X_train_full, X_val), axis=0)\n",
        "y_train_val = np.concatenate((y_train_full, y_val), axis=0)\n",
        "\n",
        "regression_model = xgb.XGBRegressor(\n",
        "    objective='reg:absoluteerror',\n",
        "    max_depth=best_depth,\n",
        "    eval_metric='mae',\n",
        "    random_state=42\n",
        ")\n",
        "regression_model.fit(X_train_val, y_train_val)\n",
        "\n",
        "# Evaluate the final model on the unseen test set\n",
        "y_pred_test = regression_model.predict(X_test)\n",
        "test_mae = mean_absolute_error(y_test, y_pred_test)\n",
        "print(f\"\\nFinal Test MAE: {test_mae:.2f} nM\")\n",
        "\n",
        "print(y_pred_test[:5])\n",
        "print(y_test[:5])\n",
        "\n",
        "\n"
      ]
    },
    {
      "cell_type": "markdown",
      "metadata": {},
      "source": [
        "Final Training"
      ]
    },
    {
      "cell_type": "code",
      "execution_count": 26,
      "metadata": {},
      "outputs": [
        {
          "name": "stdout",
          "output_type": "stream",
          "text": [
            "X_test shape: (1152, 559)\n",
            "Binary Classification Accuracy: 61.20%\n",
            "Classification Report:\n",
            "              precision    recall  f1-score   support\n",
            "\n",
            "           0       1.00      0.61      0.76      1152\n",
            "           1       0.00      0.00      0.00         0\n",
            "\n",
            "    accuracy                           0.61      1152\n",
            "   macro avg       0.50      0.31      0.38      1152\n",
            "weighted avg       1.00      0.61      0.76      1152\n",
            "\n",
            "Combined Model MAE: 3834.99 nM\n",
            "   Predicted Kd  Actual Kd  Predicted Class  True Class\n",
            "0  10001.000000     3500.0                1           0\n",
            "1    129.503922     2700.0                0           0\n",
            "2  10001.000000      470.0                1           0\n",
            "3     49.003117        2.4                0           0\n",
            "4  10001.000000     4700.0                1           0\n",
            "5  10001.000000      390.0                1           0\n",
            "6    374.398743      320.0                0           0\n",
            "7    193.117020      260.0                0           0\n",
            "8    181.060181       37.0                0           0\n",
            "9  10001.000000     5200.0                1           0\n"
          ]
        },
        {
          "name": "stderr",
          "output_type": "stream",
          "text": [
            "/opt/anaconda3/lib/python3.12/site-packages/sklearn/metrics/_classification.py:1509: UndefinedMetricWarning: Recall is ill-defined and being set to 0.0 in labels with no true samples. Use `zero_division` parameter to control this behavior.\n",
            "  _warn_prf(average, modifier, f\"{metric.capitalize()} is\", len(result))\n",
            "/opt/anaconda3/lib/python3.12/site-packages/sklearn/metrics/_classification.py:1509: UndefinedMetricWarning: Recall is ill-defined and being set to 0.0 in labels with no true samples. Use `zero_division` parameter to control this behavior.\n",
            "  _warn_prf(average, modifier, f\"{metric.capitalize()} is\", len(result))\n",
            "/opt/anaconda3/lib/python3.12/site-packages/sklearn/metrics/_classification.py:1509: UndefinedMetricWarning: Recall is ill-defined and being set to 0.0 in labels with no true samples. Use `zero_division` parameter to control this behavior.\n",
            "  _warn_prf(average, modifier, f\"{metric.capitalize()} is\", len(result))\n"
          ]
        }
      ],
      "source": [
        "import numpy as np\n",
        "import xgboost as xgb\n",
        "import pandas as pd\n",
        "from sklearn.metrics import accuracy_score, mean_absolute_error, classification_report\n",
        "\n",
        "# --- Flattening Function ---\n",
        "def flatten_features(X):\n",
        "    \"\"\"\n",
        "    Convert an array X of shape (n_samples, n_features) where some features are sequences\n",
        "    (lists or arrays) into a uniform 2D array where every feature is a scalar.\n",
        "    \"\"\"\n",
        "    X_list = X.tolist()\n",
        "    n_samples = len(X_list)\n",
        "    n_features = X.shape[1]\n",
        "    processed_columns = []\n",
        "    \n",
        "    for j in range(n_features):\n",
        "        col = [row[j] for row in X_list]\n",
        "        # If the first element is a sequence, assume the whole column is and flatten it\n",
        "        if isinstance(col[0], (list, np.ndarray)):\n",
        "            col = np.array([np.array(x).flatten() for x in col])\n",
        "        else:\n",
        "            col = np.array(col).reshape(-1, 1)\n",
        "        processed_columns.append(col)\n",
        "    \n",
        "    X_processed = np.hstack(processed_columns)\n",
        "    return X_processed\n",
        "\n",
        "Y_test_raw = np.array(y_test, dtype=float).ravel()\n",
        "\n",
        "\n",
        "X_test = flatten_features(X_test)\n",
        "print(\"X_test shape:\", X_test.shape)\n",
        "\n",
        "Y_cat_test = np.where(Y_test_raw == 10001, 1, 0)\n",
        "\n",
        "y_pred_classifier = binary_classification_model.predict(X_test)\n",
        "\n",
        "y_pred_regression = regression_model.predict(X_test)\n",
        "y_pred_combined = np.where(y_pred_classifier == 1, 10001, y_pred_regression)\n",
        "\n",
        "clf_accuracy = accuracy_score(Y_cat_test, y_pred_classifier)\n",
        "print(\"Binary Classification Accuracy: {:.2f}%\".format(clf_accuracy * 100))\n",
        "print(\"Classification Report:\")\n",
        "print(classification_report(Y_cat_test, y_pred_classifier))\n",
        "\n",
        "combined_mae = mean_absolute_error(Y_test_raw, y_pred_combined)\n",
        "print(\"Combined Model MAE: {:.2f} nM\".format(combined_mae))\n",
        "\n",
        "# --- (Optional) Display a Comparison of Predictions ---\n",
        "comparison_df = pd.DataFrame({\n",
        "    'Predicted Kd': y_pred_combined,\n",
        "    'Actual Kd': Y_test_raw,\n",
        "    'Predicted Class': y_pred_classifier,\n",
        "    'True Class': Y_cat_test\n",
        "})\n",
        "print(comparison_df.head(10))\n"
      ]
    },
    {
      "cell_type": "markdown",
      "metadata": {},
      "source": [
        "Testing on new inhibitor data"
      ]
    },
    {
      "cell_type": "code",
      "execution_count": 27,
      "metadata": {},
      "outputs": [
        {
          "name": "stderr",
          "output_type": "stream",
          "text": [
            "[13:25:10] DEPRECATION WARNING: please use MorganGenerator\n",
            "[13:25:10] DEPRECATION WARNING: please use MorganGenerator\n",
            "[13:25:10] DEPRECATION WARNING: please use MorganGenerator\n",
            "[13:25:10] DEPRECATION WARNING: please use MorganGenerator\n",
            "[13:25:10] DEPRECATION WARNING: please use MorganGenerator\n",
            "[13:25:10] DEPRECATION WARNING: please use MorganGenerator\n",
            "[13:25:10] DEPRECATION WARNING: please use MorganGenerator\n",
            "[13:25:10] DEPRECATION WARNING: please use MorganGenerator\n",
            "[13:25:10] DEPRECATION WARNING: please use MorganGenerator\n",
            "[13:25:10] DEPRECATION WARNING: please use MorganGenerator\n",
            "[13:25:10] DEPRECATION WARNING: please use MorganGenerator\n",
            "[13:25:10] DEPRECATION WARNING: please use MorganGenerator\n"
          ]
        },
        {
          "name": "stdout",
          "output_type": "stream",
          "text": [
            "(5304, 1)\n",
            "(442, 302)\n",
            "(5304, 256)\n",
            "X_test Shape: (5304, 559)\n",
            "y_test Shape: (5304,)\n"
          ]
        }
      ],
      "source": [
        "import numpy as np\n",
        "import pandas as pd\n",
        "import pickle\n",
        "from sklearn.preprocessing import LabelEncoder, StandardScaler\n",
        "from rdkit import Chem\n",
        "from rdkit.Chem import AllChem\n",
        "from sklearn.decomposition import PCA\n",
        "\n",
        "# ---- Step 1: Load Test Datasets ----\n",
        "table1 = pd.read_excel('Table-1.xlsx')  # Kinase & Mutant encoding\n",
        "table2_test = pd.read_csv('Table-2_test.csv')  # Drug info (SMILES, Binding Mode)\n",
        "table3_test = pd.read_excel('Table-3_test.xlsx')  # Kinase-Inhibitor Kd values\n",
        "\n",
        "# ---- Step 2: Convert SMILES to Molecular Fingerprint ----\n",
        "def smiles_to_fingerprint(smiles, radius=2, nBits=256):\n",
        "    mol = Chem.MolFromSmiles(smiles)\n",
        "    return np.array(AllChem.GetMorganFingerprintAsBitVect(mol, radius, nBits)) if mol else np.zeros(nBits)\n",
        "\n",
        "table2_test[\"Fingerprint\"] = table2_test[\"SMILES\"].apply(smiles_to_fingerprint)\n",
        "\n",
        "# ---- Step 3: Encode Categorical Features (Kinase & Mutant Types) ----\n",
        "label_encoder_kinase = LabelEncoder()\n",
        "label_encoder_mutant = LabelEncoder()\n",
        "\n",
        "table1[\"Kinase Group Encoded\"] = label_encoder_kinase.fit_transform(table1[\"Kinase Group\"])\n",
        "table1[\"Mutant Encoded\"] = label_encoder_mutant.fit_transform(table1[\"Mutant\"])\n",
        "\n",
        "# ---- Step 4: Retrieve Precomputed Kinase Embeddings ----\n",
        "with open(\"global_embeddings_map.pkl\", \"rb\") as f:\n",
        "    embedding_map = pickle.load(f)\n",
        "\n",
        "def get_precomputed_embedding(kinase_name):\n",
        "    return embedding_map.get(kinase_name, np.zeros(128))  # Assuming 128-D embeddings\n",
        "\n",
        "table3_test[\"Kinase_Embedding\"] = table3_test[\"Kinase\"].apply(get_precomputed_embedding)\n",
        "\n",
        "# ---- Step 5: Extract Drug Names & Dissociation Constants ----\n",
        "# Extract the 12 inhibitors from Table-2_test.csv\n",
        "drug_names = table2_test[\"Compound\"].values  # Use the 12 inhibitors from Table-2_test.csv\n",
        "\n",
        "# Ensure all drug names exist in table3_test\n",
        "valid_drug_columns = [drug for drug in drug_names if drug in table3_test.columns]\n",
        "\n",
        "if not valid_drug_columns:\n",
        "    raise ValueError(\"None of the drug names in Table-2_test.csv exist in Table-3_test.xlsx!\")\n",
        "\n",
        "# Extract first 3 columns (metadata) from Table-3_test.xlsx\n",
        "three_cols_test = table3_test.iloc[:, :3].values  # Convert to NumPy array\n",
        "\n",
        "# Extract Kd values (Dissociation Constants) for the valid inhibitors\n",
        "coeffs_test = table3_test[valid_drug_columns].values  # Extract Kd values\n",
        "\n",
        "# ---- Step 7: Expand Features for Kinase & Drug ----\n",
        "# Repeat each kinase based on the number of valid inhibitors\n",
        "kinase_repeated_test = np.repeat(three_cols_test, repeats=len(valid_drug_columns), axis=0)\n",
        "\n",
        "# Tile the valid drug names to match the repeated kinases\n",
        "inhibitor_tiled_test = np.tile(valid_drug_columns, len(table3_test))\n",
        "\n",
        "# Encode kinase and mutant types\n",
        "encoder_kinase = LabelEncoder()\n",
        "encoder_mutant = LabelEncoder()\n",
        "\n",
        "kinase_numeric_test = encoder_kinase.fit_transform(kinase_repeated_test[:, 1])\n",
        "mutant_numeric_test = encoder_mutant.fit_transform(kinase_repeated_test[:, 2])\n",
        "\n",
        "# ---- Step 8: Apply PCA to Kinase Embeddings ----\n",
        "# Extract kinase embeddings and convert to NumPy array\n",
        "kinase_embeddings = np.stack(table3_test[\"Kinase_Embedding\"].values)\n",
        "\n",
        "# Standardize embeddings\n",
        "scaler = StandardScaler()\n",
        "kinase_embeddings_standardized = scaler.fit_transform(kinase_embeddings)\n",
        "\n",
        "# Apply PCA (Ensure number of components is valid)\n",
        "n_components = 300  # Reduce to 50 components\n",
        "pca = PCA(n_components=n_components)\n",
        "reduced_embeddings_test = pca.fit_transform(kinase_embeddings_standardized)\n",
        "\n",
        "# Create a dictionary for mapping kinase names to PCA embeddings\n",
        "kinase_pca_dict_test = {kinase: pca_vector for kinase, pca_vector in zip(table3_test[\"Kinase\"], reduced_embeddings_test)}\n",
        "\n",
        "# Ensure that all kinases in test set exist in PCA mapping\n",
        "# pca_values_test = np.array([kinase_pca_dict_test.get(k, np.zeros(50)) for k in kinase_repeated_test[:, 1]])\n",
        "\n",
        "# ---- Step 9: Merge with Fingerprint Data ----\n",
        "fingerprint_test = np.array([table2_test.loc[table2_test['Compound'] == inhibitor, \"Fingerprint\"].values[0]\n",
        "                             for inhibitor in inhibitor_tiled_test])\n",
        "binding_mode_test = np.array([\n",
        "    table2_test.loc[table2_test['Compound'] == inhibitor, \"Binding Mode (based on ABL1-phos. vs. -nonphos affinity)\"].values[0]\n",
        "    for inhibitor in inhibitor_tiled_test\n",
        "])\n",
        "\n",
        "label_encoder = LabelEncoder()\n",
        "binding_mode_encoded_testing = label_encoder.fit_transform(binding_mode_test)\n",
        "binding_mode_encoded_testing = binding_mode_encoded_testing.reshape(-1, 1)\n",
        "print(binding_mode_encoded_testing.shape)\n",
        "\n",
        "fingerprint_with_binding = np.hstack((fingerprint_test, binding_mode_encoded_testing))\n",
        "# ---- Step 10: Stack Feature Matrices ----\n",
        "# Combine kinase features (mutant encoded + PCA embeddings)\n",
        "# kinase_test = np.hstack((mutant_numeric_test.reshape(-1, 1), pca_values_test))\n",
        "print(testing_kinase.shape)\n",
        "\n",
        "\n",
        "# Combine inhibitor features (fingerprint)\n",
        "inhibitor_test = fingerprint_test\n",
        "testing_kinase_final = np.repeat(testing_kinase, repeats=12, axis=0)\n",
        "print(inhibitor_test.shape)\n",
        "\n",
        "# Repeat kinase features and tile inhibitor features to match the flattened format\n",
        "\n",
        "inhibitor_test = np.hstack((inhibitor_test, binding_mode_encoded_testing))\n",
        "\n",
        "\n",
        "X_test = np.hstack((testing_kinase_final, inhibitor_test))\n",
        "\n",
        "# Flatten the binary labels\n",
        "y_test = coeffs_test.flatten()\n",
        "\n",
        "# ---- Step 11: Verify Data Shape ----\n",
        "print(\"X_test Shape:\", X_test.shape)  # Should be (num_kinases * num_inhibitors, n_features)\n",
        "print(\"y_test Shape:\", y_test.shape)  # Should be (\n"
      ]
    },
    {
      "cell_type": "code",
      "execution_count": 28,
      "metadata": {},
      "outputs": [
        {
          "name": "stdout",
          "output_type": "stream",
          "text": [
            "X_test shape: (5304, 559)\n",
            "Binary Classification Accuracy: 59.86%\n",
            "Classification Report:\n",
            "              precision    recall  f1-score   support\n",
            "\n",
            "           0       0.33      0.21      0.25      1744\n",
            "           1       0.67      0.79      0.73      3560\n",
            "\n",
            "    accuracy                           0.60      5304\n",
            "   macro avg       0.50      0.50      0.49      5304\n",
            "weighted avg       0.56      0.60      0.57      5304\n",
            "\n",
            "Combined Model MAE: 3597.68 nM\n"
          ]
        }
      ],
      "source": [
        "import numpy as np\n",
        "import xgboost as xgb\n",
        "import pandas as pd\n",
        "from sklearn.metrics import accuracy_score, mean_absolute_error, classification_report\n",
        "\n",
        "# --- Flattening Function ---\n",
        "def flatten_features(X):\n",
        "    \"\"\"\n",
        "    Convert an array X of shape (n_samples, n_features) where some features are sequences\n",
        "    (lists or arrays) into a uniform 2D array where every feature is a scalar.\n",
        "    \"\"\"\n",
        "    X_list = X.tolist()\n",
        "    n_samples = len(X_list)\n",
        "    n_features = X.shape[1]\n",
        "    processed_columns = []\n",
        "    \n",
        "    for j in range(n_features):\n",
        "        col = [row[j] for row in X_list]\n",
        "        # If the first element is a sequence, assume the whole column is and flatten it\n",
        "        if isinstance(col[0], (list, np.ndarray)):\n",
        "            col = np.array([np.array(x).flatten() for x in col])\n",
        "        else:\n",
        "            col = np.array(col).reshape(-1, 1)\n",
        "        processed_columns.append(col)\n",
        "    \n",
        "    X_processed = np.hstack(processed_columns)\n",
        "    return X_processed\n",
        "\n",
        "\n",
        "Y_test_raw = np.array(y_test, dtype=float).ravel()\n",
        "X_test = flatten_features(X_test)\n",
        "print(\"X_test shape:\", X_test.shape)\n",
        "\n",
        "\n",
        "Y_cat_test = np.where(Y_test_raw == 10001, 1, 0)\n",
        "y_pred_classifier = binary_classification_model.predict(X_test)\n",
        "y_pred_regression = regression_model.predict(X_test)\n",
        "y_pred_combined = np.where(y_pred_classifier == 1, 10001, y_pred_regression)\n",
        "\n",
        "clf_accuracy = accuracy_score(Y_cat_test, y_pred_classifier)\n",
        "print(\"Binary Classification Accuracy: {:.2f}%\".format(clf_accuracy * 100))\n",
        "print(\"Classification Report:\")\n",
        "print(classification_report(Y_cat_test, y_pred_classifier))\n",
        "\n",
        "combined_mae = mean_absolute_error(Y_test_raw, y_pred_combined)\n",
        "print(\"Combined Model MAE: {:.2f} nM\".format(combined_mae))\n",
        "\n",
        "\n",
        "comparison_df = pd.DataFrame({\n",
        "    'Predicted Kd': y_pred_combined,\n",
        "    'Actual Kd': Y_test_raw,\n",
        "    'Predicted Class': y_pred_classifier,\n",
        "    'True Class': Y_cat_test\n",
        "})"
      ]
    },
    {
      "cell_type": "markdown",
      "metadata": {},
      "source": [
        "Pure Regression"
      ]
    },
    {
      "cell_type": "code",
      "execution_count": 29,
      "metadata": {},
      "outputs": [
        {
          "name": "stdout",
          "output_type": "stream",
          "text": [
            "\n",
            "Final Test MAE: 3257.05 nM\n"
          ]
        }
      ],
      "source": [
        "y_pred_test = final_model.predict(X_test)\n",
        "test_mae = mean_absolute_error(y_test, y_pred_test)\n",
        "print(f\"\\nFinal Test MAE: {test_mae:.2f} nM\")"
      ]
    }
  ],
  "metadata": {
    "colab": {
      "machine_shape": "hm",
      "provenance": [],
      "toc_visible": true
    },
    "kernelspec": {
      "display_name": "base",
      "language": "python",
      "name": "python3"
    },
    "language_info": {
      "codemirror_mode": {
        "name": "ipython",
        "version": 3
      },
      "file_extension": ".py",
      "mimetype": "text/x-python",
      "name": "python",
      "nbconvert_exporter": "python",
      "pygments_lexer": "ipython3",
      "version": "3.12.4"
    }
  },
  "nbformat": 4,
  "nbformat_minor": 0
}
